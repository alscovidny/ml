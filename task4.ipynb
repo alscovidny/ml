{
 "cells": [
  {
   "cell_type": "markdown",
   "id": "e646018c",
   "metadata": {},
   "source": [
    "#### Задание 1\n",
    "\n",
    "Импортируйте библиотеки pandas, numpy и matplotlib.\n",
    "Загрузите \"Boston House Prices dataset\" из встроенных наборов \n",
    "данных библиотеки sklearn.\n",
    "Создайте датафреймы X и y из этих данных.\n",
    "Разбейте эти датафреймы на тренировочные (X_train, y_train) и тестовые (X_test, y_test)\n",
    "с помощью функции train_test_split так, чтобы размер тестовой выборки\n",
    "составлял 20% от всех данных, при этом аргумент random_state должен быть равен 42.\n"
   ]
  },
  {
   "cell_type": "code",
   "execution_count": 3,
   "id": "9a6fdf7d",
   "metadata": {},
   "outputs": [
    {
     "data": {
      "text/html": [
       "<div>\n",
       "<style scoped>\n",
       "    .dataframe tbody tr th:only-of-type {\n",
       "        vertical-align: middle;\n",
       "    }\n",
       "\n",
       "    .dataframe tbody tr th {\n",
       "        vertical-align: top;\n",
       "    }\n",
       "\n",
       "    .dataframe thead th {\n",
       "        text-align: right;\n",
       "    }\n",
       "</style>\n",
       "<table border=\"1\" class=\"dataframe\">\n",
       "  <thead>\n",
       "    <tr style=\"text-align: right;\">\n",
       "      <th></th>\n",
       "      <th>price</th>\n",
       "    </tr>\n",
       "  </thead>\n",
       "  <tbody>\n",
       "    <tr>\n",
       "      <th>0</th>\n",
       "      <td>24.0</td>\n",
       "    </tr>\n",
       "    <tr>\n",
       "      <th>1</th>\n",
       "      <td>21.6</td>\n",
       "    </tr>\n",
       "    <tr>\n",
       "      <th>2</th>\n",
       "      <td>34.7</td>\n",
       "    </tr>\n",
       "    <tr>\n",
       "      <th>3</th>\n",
       "      <td>33.4</td>\n",
       "    </tr>\n",
       "    <tr>\n",
       "      <th>4</th>\n",
       "      <td>36.2</td>\n",
       "    </tr>\n",
       "    <tr>\n",
       "      <th>...</th>\n",
       "      <td>...</td>\n",
       "    </tr>\n",
       "    <tr>\n",
       "      <th>501</th>\n",
       "      <td>22.4</td>\n",
       "    </tr>\n",
       "    <tr>\n",
       "      <th>502</th>\n",
       "      <td>20.6</td>\n",
       "    </tr>\n",
       "    <tr>\n",
       "      <th>503</th>\n",
       "      <td>23.9</td>\n",
       "    </tr>\n",
       "    <tr>\n",
       "      <th>504</th>\n",
       "      <td>22.0</td>\n",
       "    </tr>\n",
       "    <tr>\n",
       "      <th>505</th>\n",
       "      <td>11.9</td>\n",
       "    </tr>\n",
       "  </tbody>\n",
       "</table>\n",
       "<p>506 rows × 1 columns</p>\n",
       "</div>"
      ],
      "text/plain": [
       "     price\n",
       "0     24.0\n",
       "1     21.6\n",
       "2     34.7\n",
       "3     33.4\n",
       "4     36.2\n",
       "..     ...\n",
       "501   22.4\n",
       "502   20.6\n",
       "503   23.9\n",
       "504   22.0\n",
       "505   11.9\n",
       "\n",
       "[506 rows x 1 columns]"
      ]
     },
     "execution_count": 3,
     "metadata": {},
     "output_type": "execute_result"
    }
   ],
   "source": [
    "import warnings\n",
    "\n",
    "warnings.filterwarnings('ignore')\n",
    "\n",
    "import numpy as np\n",
    "import pandas as pd\n",
    "import matplotlib.pyplot as plt\n",
    "\n",
    "from sklearn.datasets import load_boston\n",
    "\n",
    "boston = load_boston()\n",
    "\n",
    "boston.keys()\n",
    "\n",
    "X = pd.DataFrame(boston['data'], columns = boston['feature_names'])\n",
    "# y.pop('price')\n",
    "y = pd.DataFrame(boston['target'], columns = ['price'])"
   ]
  },
  {
   "cell_type": "code",
   "execution_count": 7,
   "id": "e021d5e9",
   "metadata": {},
   "outputs": [],
   "source": [
    "from sklearn.model_selection import train_test_split\n",
    "\n",
    "X_train, X_test, y_train, y_test = train_test_split(X, y, test_size = 0.2, random_state = 42)"
   ]
  },
  {
   "cell_type": "markdown",
   "id": "ce014da4",
   "metadata": {},
   "source": [
    "Масштабируйте данные с помощью StandardScaler.\n",
    "Постройте модель TSNE на тренировочный данных с параметрами:\n",
    "##### n_components=2, learning_rate=250, random_state=42."
   ]
  },
  {
   "cell_type": "code",
   "execution_count": 25,
   "id": "63acfd61",
   "metadata": {},
   "outputs": [],
   "source": [
    "from sklearn.preprocessing import StandardScaler\n",
    "from sklearn.manifold import TSNE\n",
    "\n",
    "scaler = StandardScaler()\n",
    "\n",
    "X_train_scaled = pd.DataFrame(scaler.fit_transform(X_train), columns = X_train.columns)\n",
    "X_test_scaled = pd.DataFrame(scaler.transform(X_test), columns = X_test.columns)\n",
    "\n",
    "tsne = TSNE(n_components = 2, learning_rate = 250, random_state = 42)\n",
    "\n",
    "X_train_tsne = tsne.fit_transform(X_train_scaled)"
   ]
  },
  {
   "cell_type": "code",
   "execution_count": 26,
   "id": "3b4b8537",
   "metadata": {},
   "outputs": [
    {
     "data": {
      "text/plain": [
       "(404, 2)"
      ]
     },
     "execution_count": 26,
     "metadata": {},
     "output_type": "execute_result"
    }
   ],
   "source": [
    "X_train_tsne.shape"
   ]
  },
  {
   "cell_type": "markdown",
   "id": "4a8a6cfd",
   "metadata": {},
   "source": [
    "Постройте диаграмму рассеяния на этих данных."
   ]
  },
  {
   "cell_type": "code",
   "execution_count": 29,
   "id": "b064bc4c",
   "metadata": {},
   "outputs": [
    {
     "data": {
      "image/png": "[encoded data removed]",
      "text/plain": [
       "<Figure size 432x288 with 1 Axes>"
      ]
     },
     "metadata": {
      "needs_background": "light"
     },
     "output_type": "display_data"
    }
   ],
   "source": [
    "%matplotlib inline\n",
    "plt.scatter(X_train_tsne[:,0], X_train_tsne[:,1])\n",
    "plt.show()"
   ]
  },
  {
   "cell_type": "markdown",
   "id": "55e80182",
   "metadata": {},
   "source": [
    "#### Задание 2"
   ]
  },
  {
   "cell_type": "markdown",
   "id": "d93fca2b",
   "metadata": {},
   "source": [
    "С помощью KMeans разбейте данные из тренировочного набора на 3 кластера,\n",
    "используйте все признаки из датафрейма X_train. Параметр max_iter должен быть равен 100, random_state сделайте равным 42.\n",
    "\n"
   ]
  },
  {
   "cell_type": "code",
   "execution_count": 32,
   "id": "df8cb411",
   "metadata": {},
   "outputs": [],
   "source": [
    "from sklearn.cluster import KMeans"
   ]
  },
  {
   "cell_type": "markdown",
   "id": "16603b30",
   "metadata": {},
   "source": [
    "Постройте еще раз диаграмму рассеяния на данных, полученных с помощью TSNE,\n",
    "и раскрасьте точки из разных кластеров разными цветами.\n"
   ]
  },
  {
   "cell_type": "code",
   "execution_count": 47,
   "id": "39505685",
   "metadata": {},
   "outputs": [
    {
     "data": {
      "image/png": "[encoded data removed]",
      "text/plain": [
       "<Figure size 432x288 with 1 Axes>"
      ]
     },
     "metadata": {
      "needs_background": "light"
     },
     "output_type": "display_data"
    }
   ],
   "source": [
    "kmeans = KMeans(n_clusters=3, max_iter=100, random_state=42)\n",
    "labels_train = kmeans.fit_predict(X_train_scaled)\n",
    "# labels_train\n",
    "plt.scatter(X_train_tsne[:,0], X_train_tsne[:,1], c=labels_train)\n",
    "plt.show()"
   ]
  },
  {
   "cell_type": "markdown",
   "id": "852f8bde",
   "metadata": {},
   "source": [
    "Вычислите средние значения price и CRIM в разных кластерах."
   ]
  },
  {
   "cell_type": "code",
   "execution_count": 82,
   "id": "224ee818",
   "metadata": {},
   "outputs": [
    {
     "name": "stdout",
     "output_type": "stream",
     "text": [
      "Среднее значение price, нулевой класс: 24.971204188481675\n",
      "Среднее значение price, первый класс: 16.1796875\n",
      "Среднее значение price, второй класс: 27.87411764705882\n"
     ]
    }
   ],
   "source": [
    "print(f'Среднее значение price, нулевой класс: {y_train[ labels_train == 0 ].price.mean()}')\n",
    "print(f'Среднее значение price, первый класс: {y_train[ labels_train == 1 ].price.mean()}')\n",
    "print(f'Среднее значение price, второй класс: {y_train[ labels_train == 2 ].price.mean()}')"
   ]
  },
  {
   "cell_type": "code",
   "execution_count": 83,
   "id": "4be638a2",
   "metadata": {},
   "outputs": [
    {
     "name": "stdout",
     "output_type": "stream",
     "text": [
      "Среднее значение параметра 'CRIM', нулевой класс: 0.42098554973821994\n",
      "Среднее значение параметра 'CRIM', первый класс: 10.7152190625\n",
      "Среднее значение параметра 'CRIM', второй класс: 0.0721184705882353\n"
     ]
    }
   ],
   "source": [
    "print(f'Среднее значение параметра \\'CRIM\\', нулевой класс: {X_train[labels_train == 0 ].CRIM.mean()}')\n",
    "print(f'Среднее значение параметра \\'CRIM\\', первый класс: {X_train[labels_train == 1 ].CRIM.mean()}')\n",
    "print(f'Среднее значение параметра \\'CRIM\\', второй класс: {X_train[labels_train == 2 ].CRIM.mean()}')"
   ]
  },
  {
   "cell_type": "markdown",
   "id": "cf54fddc",
   "metadata": {},
   "source": [
    "#### Задание 3"
   ]
  },
  {
   "cell_type": "markdown",
   "id": "b0483200",
   "metadata": {},
   "source": [
    "Примените модель KMeans, построенную в предыдущем задании,\n",
    "к данным из тестового набора.\n",
    "Вычислите средние значения price и CRIM в разных кластерах на тестовых данных.\n"
   ]
  },
  {
   "cell_type": "code",
   "execution_count": 97,
   "id": "4a764b50",
   "metadata": {},
   "outputs": [
    {
     "name": "stdout",
     "output_type": "stream",
     "text": [
      "Среднее значение price (тестовый сет), нулевой класс: 21.860784313725492\n",
      "Среднее значение price (тестовый сет), первый класс: 16.43714285714286\n",
      "Среднее значение price (тестовый сет), второй класс: 31.35\n"
     ]
    }
   ],
   "source": [
    "labels_test = kmeans.predict(X_test_scaled)\n",
    "\n",
    "# y_test.shape\n",
    "# labels_test.shape\n",
    "# y_test\n",
    "# labels_test\n",
    "\n",
    "print(f'Среднее значение price (тестовый сет), нулевой класс: {y_test[ labels_test == 0 ].price.mean()}')\n",
    "print(f'Среднее значение price (тестовый сет), первый класс: {y_test[ labels_test == 1 ].price.mean()}')\n",
    "print(f'Среднее значение price (тестовый сет), второй класс: {y_test[ labels_test == 2 ].price.mean()}')"
   ]
  },
  {
   "cell_type": "code",
   "execution_count": 98,
   "id": "f308026d",
   "metadata": {},
   "outputs": [
    {
     "name": "stdout",
     "output_type": "stream",
     "text": [
      "Среднее значение параметра 'CRIM' (тестовый сет), нулевой класс: 0.2660788235294118\n",
      "Среднее значение параметра 'CRIM' (тестовый сет), первый класс: 10.165531142857143\n",
      "Среднее значение параметра 'CRIM' (тестовый сет), второй класс: 0.06206\n"
     ]
    }
   ],
   "source": [
    "print(f'Среднее значение параметра \\'CRIM\\' (тестовый сет), нулевой класс: {X_test[labels_test == 0 ].CRIM.mean()}')\n",
    "print(f'Среднее значение параметра \\'CRIM\\' (тестовый сет), первый класс: {X_test[labels_test == 1 ].CRIM.mean()}')\n",
    "print(f'Среднее значение параметра \\'CRIM\\' (тестовый сет), второй класс: {X_test[labels_test == 2 ].CRIM.mean()}')"
   ]
  },
  {
   "cell_type": "code",
   "execution_count": null,
   "id": "bceb2929",
   "metadata": {},
   "outputs": [],
   "source": []
  }
 ],
 "metadata": {
  "kernelspec": {
   "display_name": "Python 3 (ipykernel)",
   "language": "python",
   "name": "python3"
  },
  "language_info": {
   "codemirror_mode": {
    "name": "ipython",
    "version": 3
   },
   "file_extension": ".py",
   "mimetype": "text/x-python",
   "name": "python",
   "nbconvert_exporter": "python",
   "pygments_lexer": "ipython3",
   "version": "3.8.3"
  }
 },
 "nbformat": 4,
 "nbformat_minor": 5
}
