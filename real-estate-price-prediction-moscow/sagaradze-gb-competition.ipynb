{
 "cells": [
  {
   "cell_type": "code",
   "execution_count": 1,
   "id": "df38346f",
   "metadata": {
    "_cell_guid": "b1076dfc-b9ad-4769-8c92-a6c4dae69d19",
    "_uuid": "8f2839f25d086af736a60e9eeb907d3b93b6e0e5",
    "execution": {
     "iopub.execute_input": "2021-11-08T21:02:23.598465Z",
     "iopub.status.busy": "2021-11-08T21:02:23.596653Z",
     "iopub.status.idle": "2021-11-08T21:02:23.614861Z",
     "shell.execute_reply": "2021-11-08T21:02:23.613682Z",
     "shell.execute_reply.started": "2021-11-08T21:00:19.062281Z"
    },
    "papermill": {
     "duration": 0.064556,
     "end_time": "2021-11-08T21:02:23.615200",
     "exception": false,
     "start_time": "2021-11-08T21:02:23.550644",
     "status": "completed"
    },
    "tags": []
   },
   "outputs": [
    {
     "name": "stdout",
     "output_type": "stream",
     "text": [
      "/kaggle/input/real-estate-price-prediction-moscow/sample_submission.csv\n",
      "/kaggle/input/real-estate-price-prediction-moscow/train.csv\n",
      "/kaggle/input/real-estate-price-prediction-moscow/test.csv\n"
     ]
    }
   ],
   "source": [
    "# This Python 3 environment comes with many helpful analytics libraries installed\n",
    "# It is defined by the kaggle/python Docker image: https://github.com/kaggle/docker-python\n",
    "# For example, here's several helpful packages to load\n",
    "\n",
    "import numpy as np # linear algebra\n",
    "import pandas as pd # data processing, CSV file I/O (e.g. pd.read_csv)\n",
    "\n",
    "# Input data files are available in the read-only \"../input/\" directory\n",
    "# For example, running this (by clicking run or pressing Shift+Enter) will list all files under the input directory\n",
    "\n",
    "import os\n",
    "for dirname, _, filenames in os.walk('/kaggle/input'):\n",
    "    for filename in filenames:\n",
    "        print(os.path.join(dirname, filename))\n",
    "\n",
    "# You can write up to 20GB to the current directory (/kaggle/working/) that gets preserved as output when you create a version using \"Save & Run All\" \n",
    "# You can also write temporary files to /kaggle/temp/, but they won't be saved outside of the current session"
   ]
  },
  {
   "cell_type": "markdown",
   "id": "cc5b9817",
   "metadata": {
    "papermill": {
     "duration": 0.039607,
     "end_time": "2021-11-08T21:02:23.696128",
     "exception": false,
     "start_time": "2021-11-08T21:02:23.656521",
     "status": "completed"
    },
    "tags": []
   },
   "source": [
    "# 1. Загрузка данных"
   ]
  },
  {
   "cell_type": "markdown",
   "id": "82adad4a",
   "metadata": {
    "papermill": {
     "duration": 0.040739,
     "end_time": "2021-11-08T21:02:23.777421",
     "exception": false,
     "start_time": "2021-11-08T21:02:23.736682",
     "status": "completed"
    },
    "tags": []
   },
   "source": [
    "##### Создадим константу TRAIN_DATASET_PATH, которая равна пути до файла train.csv. Затем создадим на основе файла train.csv датафрейм train_dataframe:"
   ]
  },
  {
   "cell_type": "code",
   "execution_count": 2,
   "id": "95c7ab68",
   "metadata": {
    "execution": {
     "iopub.execute_input": "2021-11-08T21:02:23.862393Z",
     "iopub.status.busy": "2021-11-08T21:02:23.861688Z",
     "iopub.status.idle": "2021-11-08T21:02:23.923278Z",
     "shell.execute_reply": "2021-11-08T21:02:23.922200Z",
     "shell.execute_reply.started": "2021-11-08T21:00:19.071994Z"
    },
    "papermill": {
     "duration": 0.104912,
     "end_time": "2021-11-08T21:02:23.923463",
     "exception": false,
     "start_time": "2021-11-08T21:02:23.818551",
     "status": "completed"
    },
    "tags": []
   },
   "outputs": [],
   "source": [
    "TRAIN_DATASET_PATH = '/kaggle/input/real-estate-price-prediction-moscow/train.csv'\n",
    "TEST_DATASET_PATH = '/kaggle/input/real-estate-price-prediction-moscow/test.csv'\n",
    "train_dataframe = pd.read_csv(TRAIN_DATASET_PATH)\n"
   ]
  },
  {
   "cell_type": "markdown",
   "id": "f583c191",
   "metadata": {
    "papermill": {
     "duration": 0.040383,
     "end_time": "2021-11-08T21:02:24.004209",
     "exception": false,
     "start_time": "2021-11-08T21:02:23.963826",
     "status": "completed"
    },
    "tags": []
   },
   "source": [
    "#### Используем функцию для снижения потребления памяти"
   ]
  },
  {
   "cell_type": "code",
   "execution_count": 3,
   "id": "f8ab9286",
   "metadata": {
    "execution": {
     "iopub.execute_input": "2021-11-08T21:02:24.088127Z",
     "iopub.status.busy": "2021-11-08T21:02:24.087430Z",
     "iopub.status.idle": "2021-11-08T21:02:24.101602Z",
     "shell.execute_reply": "2021-11-08T21:02:24.102116Z",
     "shell.execute_reply.started": "2021-11-08T21:00:19.110698Z"
    },
    "papermill": {
     "duration": 0.05727,
     "end_time": "2021-11-08T21:02:24.102314",
     "exception": false,
     "start_time": "2021-11-08T21:02:24.045044",
     "status": "completed"
    },
    "tags": []
   },
   "outputs": [],
   "source": [
    "def reduce_mem_usage(df):\n",
    "    \"\"\" iterate through all the columns of a dataframe and modify the data type\n",
    "        to reduce memory usage.        \n",
    "    \"\"\"\n",
    "    start_mem = df.memory_usage().sum() / 1024**2\n",
    "    print('Memory usage of dataframe is {:.2f} MB'.format(start_mem))\n",
    "    \n",
    "    for col in df.columns:\n",
    "        col_type = df[col].dtype\n",
    "        \n",
    "        if col_type != object:\n",
    "            c_min = df[col].min()\n",
    "            c_max = df[col].max()\n",
    "            if str(col_type)[:3] == 'int':\n",
    "                if c_min > np.iinfo(np.int8).min and c_max < np.iinfo(np.int8).max:\n",
    "                    df[col] = df[col].astype(np.int8)\n",
    "                elif c_min > np.iinfo(np.int16).min and c_max < np.iinfo(np.int16).max:\n",
    "                    df[col] = df[col].astype(np.int16)\n",
    "                elif c_min > np.iinfo(np.int32).min and c_max < np.iinfo(np.int32).max:\n",
    "                    df[col] = df[col].astype(np.int32)\n",
    "                elif c_min > np.iinfo(np.int64).min and c_max < np.iinfo(np.int64).max:\n",
    "                    df[col] = df[col].astype(np.int64)  \n",
    "            else:\n",
    "                if c_min > np.finfo(np.float32).min and c_max < np.finfo(np.float32).max:\n",
    "                    df[col] = df[col].astype(np.float32)\n",
    "                else:\n",
    "                    df[col] = df[col].astype(np.float64)\n",
    "        else:\n",
    "            df[col] = df[col].astype('category')\n",
    "    end_mem = df.memory_usage().sum() / 1024**2\n",
    "    print('Memory usage after optimization is: {:.2f} MB'.format(end_mem))\n",
    "    print('Decreased by {:.1f}%'.format(100 * (start_mem - end_mem) / start_mem))\n",
    "    \n",
    "    return df"
   ]
  },
  {
   "cell_type": "markdown",
   "id": "f5fdac90",
   "metadata": {
    "papermill": {
     "duration": 0.040031,
     "end_time": "2021-11-08T21:02:24.183108",
     "exception": false,
     "start_time": "2021-11-08T21:02:24.143077",
     "status": "completed"
    },
    "tags": []
   },
   "source": [
    "##### Предположим, что DistrictId - категориальный признак, переведём его в строковый тип (str). Поле Id также переведём в строковый тип, так как данная перемення не является вещественным признаком."
   ]
  },
  {
   "cell_type": "code",
   "execution_count": 4,
   "id": "cf1c531f",
   "metadata": {
    "execution": {
     "iopub.execute_input": "2021-11-08T21:02:24.267836Z",
     "iopub.status.busy": "2021-11-08T21:02:24.267171Z",
     "iopub.status.idle": "2021-11-08T21:02:24.411459Z",
     "shell.execute_reply": "2021-11-08T21:02:24.410866Z",
     "shell.execute_reply.started": "2021-11-08T21:00:19.124255Z"
    },
    "papermill": {
     "duration": 0.18784,
     "end_time": "2021-11-08T21:02:24.411584",
     "exception": false,
     "start_time": "2021-11-08T21:02:24.223744",
     "status": "completed"
    },
    "tags": []
   },
   "outputs": [
    {
     "name": "stdout",
     "output_type": "stream",
     "text": [
      "Memory usage of dataframe is 1.53 MB\n",
      "Memory usage after optimization is: 0.82 MB\n",
      "Decreased by 46.0%\n"
     ]
    },
    {
     "data": {
      "text/html": [
       "<div>\n",
       "<style scoped>\n",
       "    .dataframe tbody tr th:only-of-type {\n",
       "        vertical-align: middle;\n",
       "    }\n",
       "\n",
       "    .dataframe tbody tr th {\n",
       "        vertical-align: top;\n",
       "    }\n",
       "\n",
       "    .dataframe thead th {\n",
       "        text-align: right;\n",
       "    }\n",
       "</style>\n",
       "<table border=\"1\" class=\"dataframe\">\n",
       "  <thead>\n",
       "    <tr style=\"text-align: right;\">\n",
       "      <th></th>\n",
       "      <th>Id</th>\n",
       "      <th>DistrictId</th>\n",
       "      <th>Rooms</th>\n",
       "      <th>Square</th>\n",
       "      <th>LifeSquare</th>\n",
       "      <th>KitchenSquare</th>\n",
       "      <th>Floor</th>\n",
       "      <th>HouseFloor</th>\n",
       "      <th>HouseYear</th>\n",
       "      <th>Ecology_1</th>\n",
       "      <th>Ecology_2</th>\n",
       "      <th>Ecology_3</th>\n",
       "      <th>Social_1</th>\n",
       "      <th>Social_2</th>\n",
       "      <th>Social_3</th>\n",
       "      <th>Healthcare_1</th>\n",
       "      <th>Helthcare_2</th>\n",
       "      <th>Shops_1</th>\n",
       "      <th>Shops_2</th>\n",
       "      <th>Price</th>\n",
       "    </tr>\n",
       "  </thead>\n",
       "  <tbody>\n",
       "    <tr>\n",
       "      <th>0</th>\n",
       "      <td>11809</td>\n",
       "      <td>27</td>\n",
       "      <td>3.0</td>\n",
       "      <td>115.027313</td>\n",
       "      <td>NaN</td>\n",
       "      <td>10.0</td>\n",
       "      <td>4</td>\n",
       "      <td>10.0</td>\n",
       "      <td>2014</td>\n",
       "      <td>0.075424</td>\n",
       "      <td>B</td>\n",
       "      <td>B</td>\n",
       "      <td>11</td>\n",
       "      <td>3097</td>\n",
       "      <td>0</td>\n",
       "      <td>NaN</td>\n",
       "      <td>0</td>\n",
       "      <td>0</td>\n",
       "      <td>B</td>\n",
       "      <td>305018.875000</td>\n",
       "    </tr>\n",
       "    <tr>\n",
       "      <th>1</th>\n",
       "      <td>3013</td>\n",
       "      <td>22</td>\n",
       "      <td>1.0</td>\n",
       "      <td>39.832523</td>\n",
       "      <td>23.169222</td>\n",
       "      <td>8.0</td>\n",
       "      <td>7</td>\n",
       "      <td>8.0</td>\n",
       "      <td>1966</td>\n",
       "      <td>0.118537</td>\n",
       "      <td>B</td>\n",
       "      <td>B</td>\n",
       "      <td>30</td>\n",
       "      <td>6207</td>\n",
       "      <td>1</td>\n",
       "      <td>1183.0</td>\n",
       "      <td>1</td>\n",
       "      <td>0</td>\n",
       "      <td>B</td>\n",
       "      <td>177734.546875</td>\n",
       "    </tr>\n",
       "    <tr>\n",
       "      <th>2</th>\n",
       "      <td>8215</td>\n",
       "      <td>1</td>\n",
       "      <td>3.0</td>\n",
       "      <td>78.342216</td>\n",
       "      <td>47.671970</td>\n",
       "      <td>10.0</td>\n",
       "      <td>2</td>\n",
       "      <td>17.0</td>\n",
       "      <td>1988</td>\n",
       "      <td>0.025609</td>\n",
       "      <td>B</td>\n",
       "      <td>B</td>\n",
       "      <td>33</td>\n",
       "      <td>5261</td>\n",
       "      <td>0</td>\n",
       "      <td>240.0</td>\n",
       "      <td>3</td>\n",
       "      <td>1</td>\n",
       "      <td>B</td>\n",
       "      <td>282078.718750</td>\n",
       "    </tr>\n",
       "    <tr>\n",
       "      <th>3</th>\n",
       "      <td>2352</td>\n",
       "      <td>1</td>\n",
       "      <td>1.0</td>\n",
       "      <td>40.409908</td>\n",
       "      <td>NaN</td>\n",
       "      <td>1.0</td>\n",
       "      <td>10</td>\n",
       "      <td>22.0</td>\n",
       "      <td>1977</td>\n",
       "      <td>0.007122</td>\n",
       "      <td>B</td>\n",
       "      <td>B</td>\n",
       "      <td>1</td>\n",
       "      <td>264</td>\n",
       "      <td>0</td>\n",
       "      <td>NaN</td>\n",
       "      <td>0</td>\n",
       "      <td>1</td>\n",
       "      <td>B</td>\n",
       "      <td>168106.000000</td>\n",
       "    </tr>\n",
       "    <tr>\n",
       "      <th>4</th>\n",
       "      <td>13866</td>\n",
       "      <td>94</td>\n",
       "      <td>2.0</td>\n",
       "      <td>64.285065</td>\n",
       "      <td>38.562515</td>\n",
       "      <td>9.0</td>\n",
       "      <td>16</td>\n",
       "      <td>16.0</td>\n",
       "      <td>1972</td>\n",
       "      <td>0.282798</td>\n",
       "      <td>B</td>\n",
       "      <td>B</td>\n",
       "      <td>33</td>\n",
       "      <td>8667</td>\n",
       "      <td>2</td>\n",
       "      <td>NaN</td>\n",
       "      <td>0</td>\n",
       "      <td>6</td>\n",
       "      <td>B</td>\n",
       "      <td>343995.093750</td>\n",
       "    </tr>\n",
       "    <tr>\n",
       "      <th>...</th>\n",
       "      <td>...</td>\n",
       "      <td>...</td>\n",
       "      <td>...</td>\n",
       "      <td>...</td>\n",
       "      <td>...</td>\n",
       "      <td>...</td>\n",
       "      <td>...</td>\n",
       "      <td>...</td>\n",
       "      <td>...</td>\n",
       "      <td>...</td>\n",
       "      <td>...</td>\n",
       "      <td>...</td>\n",
       "      <td>...</td>\n",
       "      <td>...</td>\n",
       "      <td>...</td>\n",
       "      <td>...</td>\n",
       "      <td>...</td>\n",
       "      <td>...</td>\n",
       "      <td>...</td>\n",
       "      <td>...</td>\n",
       "    </tr>\n",
       "    <tr>\n",
       "      <th>9995</th>\n",
       "      <td>1260</td>\n",
       "      <td>61</td>\n",
       "      <td>2.0</td>\n",
       "      <td>49.090729</td>\n",
       "      <td>33.272625</td>\n",
       "      <td>6.0</td>\n",
       "      <td>3</td>\n",
       "      <td>12.0</td>\n",
       "      <td>1981</td>\n",
       "      <td>0.300323</td>\n",
       "      <td>B</td>\n",
       "      <td>B</td>\n",
       "      <td>52</td>\n",
       "      <td>10311</td>\n",
       "      <td>6</td>\n",
       "      <td>NaN</td>\n",
       "      <td>1</td>\n",
       "      <td>9</td>\n",
       "      <td>B</td>\n",
       "      <td>119367.453125</td>\n",
       "    </tr>\n",
       "    <tr>\n",
       "      <th>9996</th>\n",
       "      <td>16265</td>\n",
       "      <td>27</td>\n",
       "      <td>2.0</td>\n",
       "      <td>64.307686</td>\n",
       "      <td>37.038422</td>\n",
       "      <td>9.0</td>\n",
       "      <td>13</td>\n",
       "      <td>0.0</td>\n",
       "      <td>1977</td>\n",
       "      <td>0.072158</td>\n",
       "      <td>B</td>\n",
       "      <td>B</td>\n",
       "      <td>2</td>\n",
       "      <td>629</td>\n",
       "      <td>1</td>\n",
       "      <td>NaN</td>\n",
       "      <td>0</td>\n",
       "      <td>0</td>\n",
       "      <td>A</td>\n",
       "      <td>199715.156250</td>\n",
       "    </tr>\n",
       "    <tr>\n",
       "      <th>9997</th>\n",
       "      <td>2795</td>\n",
       "      <td>178</td>\n",
       "      <td>1.0</td>\n",
       "      <td>29.648056</td>\n",
       "      <td>16.555363</td>\n",
       "      <td>5.0</td>\n",
       "      <td>3</td>\n",
       "      <td>5.0</td>\n",
       "      <td>1958</td>\n",
       "      <td>0.460556</td>\n",
       "      <td>B</td>\n",
       "      <td>B</td>\n",
       "      <td>20</td>\n",
       "      <td>4386</td>\n",
       "      <td>14</td>\n",
       "      <td>NaN</td>\n",
       "      <td>1</td>\n",
       "      <td>5</td>\n",
       "      <td>B</td>\n",
       "      <td>165953.906250</td>\n",
       "    </tr>\n",
       "    <tr>\n",
       "      <th>9998</th>\n",
       "      <td>14561</td>\n",
       "      <td>21</td>\n",
       "      <td>1.0</td>\n",
       "      <td>32.330292</td>\n",
       "      <td>22.326870</td>\n",
       "      <td>5.0</td>\n",
       "      <td>3</td>\n",
       "      <td>9.0</td>\n",
       "      <td>1969</td>\n",
       "      <td>0.194489</td>\n",
       "      <td>B</td>\n",
       "      <td>B</td>\n",
       "      <td>47</td>\n",
       "      <td>8004</td>\n",
       "      <td>3</td>\n",
       "      <td>125.0</td>\n",
       "      <td>3</td>\n",
       "      <td>5</td>\n",
       "      <td>B</td>\n",
       "      <td>171842.406250</td>\n",
       "    </tr>\n",
       "    <tr>\n",
       "      <th>9999</th>\n",
       "      <td>7202</td>\n",
       "      <td>94</td>\n",
       "      <td>1.0</td>\n",
       "      <td>35.815475</td>\n",
       "      <td>22.301367</td>\n",
       "      <td>6.0</td>\n",
       "      <td>9</td>\n",
       "      <td>9.0</td>\n",
       "      <td>1975</td>\n",
       "      <td>0.127376</td>\n",
       "      <td>B</td>\n",
       "      <td>B</td>\n",
       "      <td>43</td>\n",
       "      <td>8429</td>\n",
       "      <td>3</td>\n",
       "      <td>NaN</td>\n",
       "      <td>3</td>\n",
       "      <td>9</td>\n",
       "      <td>B</td>\n",
       "      <td>177685.625000</td>\n",
       "    </tr>\n",
       "  </tbody>\n",
       "</table>\n",
       "<p>10000 rows × 20 columns</p>\n",
       "</div>"
      ],
      "text/plain": [
       "         Id DistrictId  Rooms      Square  LifeSquare  KitchenSquare  Floor  \\\n",
       "0     11809         27    3.0  115.027313         NaN           10.0      4   \n",
       "1      3013         22    1.0   39.832523   23.169222            8.0      7   \n",
       "2      8215          1    3.0   78.342216   47.671970           10.0      2   \n",
       "3      2352          1    1.0   40.409908         NaN            1.0     10   \n",
       "4     13866         94    2.0   64.285065   38.562515            9.0     16   \n",
       "...     ...        ...    ...         ...         ...            ...    ...   \n",
       "9995   1260         61    2.0   49.090729   33.272625            6.0      3   \n",
       "9996  16265         27    2.0   64.307686   37.038422            9.0     13   \n",
       "9997   2795        178    1.0   29.648056   16.555363            5.0      3   \n",
       "9998  14561         21    1.0   32.330292   22.326870            5.0      3   \n",
       "9999   7202         94    1.0   35.815475   22.301367            6.0      9   \n",
       "\n",
       "      HouseFloor  HouseYear  Ecology_1 Ecology_2 Ecology_3  Social_1  \\\n",
       "0           10.0       2014   0.075424         B         B        11   \n",
       "1            8.0       1966   0.118537         B         B        30   \n",
       "2           17.0       1988   0.025609         B         B        33   \n",
       "3           22.0       1977   0.007122         B         B         1   \n",
       "4           16.0       1972   0.282798         B         B        33   \n",
       "...          ...        ...        ...       ...       ...       ...   \n",
       "9995        12.0       1981   0.300323         B         B        52   \n",
       "9996         0.0       1977   0.072158         B         B         2   \n",
       "9997         5.0       1958   0.460556         B         B        20   \n",
       "9998         9.0       1969   0.194489         B         B        47   \n",
       "9999         9.0       1975   0.127376         B         B        43   \n",
       "\n",
       "      Social_2  Social_3  Healthcare_1  Helthcare_2  Shops_1 Shops_2  \\\n",
       "0         3097         0           NaN            0        0       B   \n",
       "1         6207         1        1183.0            1        0       B   \n",
       "2         5261         0         240.0            3        1       B   \n",
       "3          264         0           NaN            0        1       B   \n",
       "4         8667         2           NaN            0        6       B   \n",
       "...        ...       ...           ...          ...      ...     ...   \n",
       "9995     10311         6           NaN            1        9       B   \n",
       "9996       629         1           NaN            0        0       A   \n",
       "9997      4386        14           NaN            1        5       B   \n",
       "9998      8004         3         125.0            3        5       B   \n",
       "9999      8429         3           NaN            3        9       B   \n",
       "\n",
       "              Price  \n",
       "0     305018.875000  \n",
       "1     177734.546875  \n",
       "2     282078.718750  \n",
       "3     168106.000000  \n",
       "4     343995.093750  \n",
       "...             ...  \n",
       "9995  119367.453125  \n",
       "9996  199715.156250  \n",
       "9997  165953.906250  \n",
       "9998  171842.406250  \n",
       "9999  177685.625000  \n",
       "\n",
       "[10000 rows x 20 columns]"
      ]
     },
     "execution_count": 4,
     "metadata": {},
     "output_type": "execute_result"
    }
   ],
   "source": [
    "train_dataframe['Id'] = train_dataframe['Id'].astype(str)\n",
    "train_dataframe['DistrictId'] = train_dataframe['DistrictId'].astype(str)\n",
    "\n",
    "reduce_mem_usage(train_dataframe)"
   ]
  },
  {
   "cell_type": "markdown",
   "id": "5535b975",
   "metadata": {
    "papermill": {
     "duration": 0.094933,
     "end_time": "2021-11-08T21:02:24.547809",
     "exception": false,
     "start_time": "2021-11-08T21:02:24.452876",
     "status": "completed"
    },
    "tags": []
   },
   "source": [
    "##### Проверим наличие пропусков в данных: "
   ]
  },
  {
   "cell_type": "code",
   "execution_count": 5,
   "id": "987ebe8a",
   "metadata": {
    "execution": {
     "iopub.execute_input": "2021-11-08T21:02:24.632827Z",
     "iopub.status.busy": "2021-11-08T21:02:24.632224Z",
     "iopub.status.idle": "2021-11-08T21:02:24.650816Z",
     "shell.execute_reply": "2021-11-08T21:02:24.651344Z",
     "shell.execute_reply.started": "2021-11-08T21:00:19.211770Z"
    },
    "papermill": {
     "duration": 0.062894,
     "end_time": "2021-11-08T21:02:24.651549",
     "exception": false,
     "start_time": "2021-11-08T21:02:24.588655",
     "status": "completed"
    },
    "tags": []
   },
   "outputs": [
    {
     "name": "stdout",
     "output_type": "stream",
     "text": [
      "<class 'pandas.core.frame.DataFrame'>\n",
      "RangeIndex: 10000 entries, 0 to 9999\n",
      "Data columns (total 20 columns):\n",
      " #   Column         Non-Null Count  Dtype   \n",
      "---  ------         --------------  -----   \n",
      " 0   Id             10000 non-null  category\n",
      " 1   DistrictId     10000 non-null  category\n",
      " 2   Rooms          10000 non-null  float32 \n",
      " 3   Square         10000 non-null  float32 \n",
      " 4   LifeSquare     7887 non-null   float32 \n",
      " 5   KitchenSquare  10000 non-null  float32 \n",
      " 6   Floor          10000 non-null  int8    \n",
      " 7   HouseFloor     10000 non-null  float32 \n",
      " 8   HouseYear      10000 non-null  int32   \n",
      " 9   Ecology_1      10000 non-null  float32 \n",
      " 10  Ecology_2      10000 non-null  category\n",
      " 11  Ecology_3      10000 non-null  category\n",
      " 12  Social_1       10000 non-null  int8    \n",
      " 13  Social_2       10000 non-null  int16   \n",
      " 14  Social_3       10000 non-null  int16   \n",
      " 15  Healthcare_1   5202 non-null   float32 \n",
      " 16  Helthcare_2    10000 non-null  int8    \n",
      " 17  Shops_1        10000 non-null  int8    \n",
      " 18  Shops_2        10000 non-null  category\n",
      " 19  Price          10000 non-null  float32 \n",
      "dtypes: category(5), float32(8), int16(2), int32(1), int8(4)\n",
      "memory usage: 844.4 KB\n"
     ]
    }
   ],
   "source": [
    "train_dataframe.info()"
   ]
  },
  {
   "cell_type": "markdown",
   "id": "99fd9afd",
   "metadata": {
    "papermill": {
     "duration": 0.042222,
     "end_time": "2021-11-08T21:02:24.736588",
     "exception": false,
     "start_time": "2021-11-08T21:02:24.694366",
     "status": "completed"
    },
    "tags": []
   },
   "source": [
    "##### Как видно из полученных данных, в столбцах LifeSquare и Healthcare_1 имеются пропуски. Столбец Healthcare_1 исправим, заменив нулевые значения на медианные. "
   ]
  },
  {
   "cell_type": "code",
   "execution_count": 6,
   "id": "2c73513e",
   "metadata": {
    "execution": {
     "iopub.execute_input": "2021-11-08T21:02:24.823923Z",
     "iopub.status.busy": "2021-11-08T21:02:24.823281Z",
     "iopub.status.idle": "2021-11-08T21:02:24.827959Z",
     "shell.execute_reply": "2021-11-08T21:02:24.828475Z",
     "shell.execute_reply.started": "2021-11-08T21:00:19.227544Z"
    },
    "papermill": {
     "duration": 0.050008,
     "end_time": "2021-11-08T21:02:24.828632",
     "exception": false,
     "start_time": "2021-11-08T21:02:24.778624",
     "status": "completed"
    },
    "tags": []
   },
   "outputs": [],
   "source": [
    "# condition_ls = (train_dataframe['LifeSquare'].isna()) \\\n",
    "# | \n",
    "\n",
    "condition_healthcare = train_dataframe['Healthcare_1'].isna()\n",
    "train_dataframe.loc[condition_healthcare, 'Healthcare_1'] = train_dataframe['Healthcare_1'].median()"
   ]
  },
  {
   "cell_type": "markdown",
   "id": "25068b52",
   "metadata": {
    "papermill": {
     "duration": 0.041811,
     "end_time": "2021-11-08T21:02:24.913368",
     "exception": false,
     "start_time": "2021-11-08T21:02:24.871557",
     "status": "completed"
    },
    "tags": []
   },
   "source": [
    "##### Значения LifeSquare попробуем заменить исходя из значений Square. Для этого найдем долю жилой площади среди общей площади."
   ]
  },
  {
   "cell_type": "code",
   "execution_count": 7,
   "id": "07c26bf9",
   "metadata": {
    "execution": {
     "iopub.execute_input": "2021-11-08T21:02:25.004074Z",
     "iopub.status.busy": "2021-11-08T21:02:25.003287Z",
     "iopub.status.idle": "2021-11-08T21:02:25.006002Z",
     "shell.execute_reply": "2021-11-08T21:02:25.005513Z",
     "shell.execute_reply.started": "2021-11-08T21:00:19.234206Z"
    },
    "papermill": {
     "duration": 0.049881,
     "end_time": "2021-11-08T21:02:25.006133",
     "exception": false,
     "start_time": "2021-11-08T21:02:24.956252",
     "status": "completed"
    },
    "tags": []
   },
   "outputs": [],
   "source": [
    "lifesq_share = train_dataframe['LifeSquare']/train_dataframe['Square']\n",
    "avg_lifesq_share = lifesq_share.mean()"
   ]
  },
  {
   "cell_type": "markdown",
   "id": "2160bf06",
   "metadata": {
    "papermill": {
     "duration": 0.043119,
     "end_time": "2021-11-08T21:02:25.091843",
     "exception": false,
     "start_time": "2021-11-08T21:02:25.048724",
     "status": "completed"
    },
    "tags": []
   },
   "source": [
    "##### Таким образом, для жилой площади в квартире составляет порядка 66.6 %. Тогда заполним недостающие значения LifeSquare на основании имеющихся данных Square путём умножения на полученное значение avg_lifesq_share:"
   ]
  },
  {
   "cell_type": "code",
   "execution_count": 8,
   "id": "a3345f69",
   "metadata": {
    "execution": {
     "iopub.execute_input": "2021-11-08T21:02:25.182775Z",
     "iopub.status.busy": "2021-11-08T21:02:25.182128Z",
     "iopub.status.idle": "2021-11-08T21:02:25.186813Z",
     "shell.execute_reply": "2021-11-08T21:02:25.186248Z",
     "shell.execute_reply.started": "2021-11-08T21:00:19.249958Z"
    },
    "papermill": {
     "duration": 0.052514,
     "end_time": "2021-11-08T21:02:25.186946",
     "exception": false,
     "start_time": "2021-11-08T21:02:25.134432",
     "status": "completed"
    },
    "tags": []
   },
   "outputs": [],
   "source": [
    "condition_ls_na = train_dataframe['LifeSquare'].isna()\n",
    "train_dataframe.loc[condition_ls_na, 'LifeSquare'] = train_dataframe['Square'] * avg_lifesq_share"
   ]
  },
  {
   "cell_type": "markdown",
   "id": "b6ac6cff",
   "metadata": {
    "papermill": {
     "duration": 0.042338,
     "end_time": "2021-11-08T21:02:25.272284",
     "exception": false,
     "start_time": "2021-11-08T21:02:25.229946",
     "status": "completed"
    },
    "tags": []
   },
   "source": [
    "# 2. EDA анализ."
   ]
  },
  {
   "cell_type": "code",
   "execution_count": 9,
   "id": "437c15bf",
   "metadata": {
    "execution": {
     "iopub.execute_input": "2021-11-08T21:02:25.365350Z",
     "iopub.status.busy": "2021-11-08T21:02:25.364607Z",
     "iopub.status.idle": "2021-11-08T21:02:42.369054Z",
     "shell.execute_reply": "2021-11-08T21:02:42.368422Z",
     "shell.execute_reply.started": "2021-11-08T21:00:19.266643Z"
    },
    "papermill": {
     "duration": 17.054219,
     "end_time": "2021-11-08T21:02:42.369193",
     "exception": false,
     "start_time": "2021-11-08T21:02:25.314974",
     "status": "completed"
    },
    "tags": []
   },
   "outputs": [
    {
     "data": {
      "image/png": "[encoded data removed]",
      "text/plain": [
       "<Figure size 720x720 with 4 Axes>"
      ]
     },
     "metadata": {
      "needs_background": "light"
     },
     "output_type": "display_data"
    }
   ],
   "source": [
    "from matplotlib import pyplot as plt\n",
    "import seaborn as sns\n",
    "\n",
    "# массив вещественных признаков\n",
    "quantitative = \\\n",
    "[i for i in train_dataframe.columns.values if train_dataframe[i].dtype.name != 'category' and i != 'Price' ]\n",
    "\n",
    "quantitative\n",
    "def show_partly(variables, N1, N2):\n",
    "    fig,axes = plt.subplots(N1,N2)\n",
    "    fig.set_size_inches(10, 10)\n",
    "    for i, elem in enumerate(variables):\n",
    "         sns.histplot(train_dataframe[elem], ax=axes[i // N1, i % N2])\n",
    "        \n",
    "show_partly(quantitative[:4], 2, 2)"
   ]
  },
  {
   "cell_type": "markdown",
   "id": "72eb7707",
   "metadata": {
    "papermill": {
     "duration": 0.043011,
     "end_time": "2021-11-08T21:02:42.455627",
     "exception": false,
     "start_time": "2021-11-08T21:02:42.412616",
     "status": "completed"
    },
    "tags": []
   },
   "source": [
    "##### По рядам Rooms, Square, LifeSquare, KitchenSquare есть аномально высокие значения. Заметим, что, квартир с числом комнат > 5 или == 0 мало, то есть будем считать адекватным количество комнат от 1 до 5 включительно. Попробуем заменить выбросы (не путать с недостающими значениями) на медианные значения."
   ]
  },
  {
   "cell_type": "code",
   "execution_count": 10,
   "id": "e629d638",
   "metadata": {
    "execution": {
     "iopub.execute_input": "2021-11-08T21:02:42.547902Z",
     "iopub.status.busy": "2021-11-08T21:02:42.547229Z",
     "iopub.status.idle": "2021-11-08T21:02:42.550448Z",
     "shell.execute_reply": "2021-11-08T21:02:42.549775Z",
     "shell.execute_reply.started": "2021-11-08T21:00:33.585802Z"
    },
    "papermill": {
     "duration": 0.052307,
     "end_time": "2021-11-08T21:02:42.550644",
     "exception": false,
     "start_time": "2021-11-08T21:02:42.498337",
     "status": "completed"
    },
    "tags": []
   },
   "outputs": [],
   "source": [
    "condition_rooms = (train_dataframe['Rooms'] > 5) | (train_dataframe['Rooms'] <= 0)\n",
    "train_dataframe.loc[condition_rooms, 'Rooms'] = train_dataframe['Rooms'].median()\n"
   ]
  },
  {
   "cell_type": "markdown",
   "id": "38445af7",
   "metadata": {
    "papermill": {
     "duration": 0.042398,
     "end_time": "2021-11-08T21:02:42.635364",
     "exception": false,
     "start_time": "2021-11-08T21:02:42.592966",
     "status": "completed"
    },
    "tags": []
   },
   "source": [
    "##### Значения переменных площади (LifeSquare, Square, KitchenSquare), выше 99%-го квартиля, попробуем заменить на медианные."
   ]
  },
  {
   "cell_type": "code",
   "execution_count": 11,
   "id": "0982a3d6",
   "metadata": {
    "execution": {
     "iopub.execute_input": "2021-11-08T21:02:42.727839Z",
     "iopub.status.busy": "2021-11-08T21:02:42.727107Z",
     "iopub.status.idle": "2021-11-08T21:02:42.735229Z",
     "shell.execute_reply": "2021-11-08T21:02:42.735783Z",
     "shell.execute_reply.started": "2021-11-08T21:00:33.593883Z"
    },
    "papermill": {
     "duration": 0.057696,
     "end_time": "2021-11-08T21:02:42.735938",
     "exception": false,
     "start_time": "2021-11-08T21:02:42.678242",
     "status": "completed"
    },
    "tags": []
   },
   "outputs": [],
   "source": [
    "for square in ['LifeSquare', 'Square', 'KitchenSquare']:\n",
    "    condition = (train_dataframe[square] > train_dataframe[square].quantile(0.99))\n",
    "    train_dataframe.loc[condition, square] = train_dataframe[square].median()"
   ]
  },
  {
   "cell_type": "code",
   "execution_count": 12,
   "id": "9e1deb97",
   "metadata": {
    "execution": {
     "iopub.execute_input": "2021-11-08T21:02:42.827008Z",
     "iopub.status.busy": "2021-11-08T21:02:42.826012Z",
     "iopub.status.idle": "2021-11-08T21:02:43.927268Z",
     "shell.execute_reply": "2021-11-08T21:02:43.927873Z",
     "shell.execute_reply.started": "2021-11-08T21:00:33.610967Z"
    },
    "papermill": {
     "duration": 1.148666,
     "end_time": "2021-11-08T21:02:43.928056",
     "exception": false,
     "start_time": "2021-11-08T21:02:42.779390",
     "status": "completed"
    },
    "tags": []
   },
   "outputs": [
    {
     "data": {
      "image/png": "[encoded data removed]",
      "text/plain": [
       "<Figure size 720x720 with 4 Axes>"
      ]
     },
     "metadata": {
      "needs_background": "light"
     },
     "output_type": "display_data"
    }
   ],
   "source": [
    "# смотрим на данные ещё раз\n",
    "show_partly(quantitative[:4], 2, 2)"
   ]
  },
  {
   "cell_type": "markdown",
   "id": "37004e2a",
   "metadata": {
    "papermill": {
     "duration": 0.044726,
     "end_time": "2021-11-08T21:02:44.019507",
     "exception": false,
     "start_time": "2021-11-08T21:02:43.974781",
     "status": "completed"
    },
    "tags": []
   },
   "source": [
    "#### Воспользуемся некоторыми практическими соображениями и улучшим данные по площадям:\n",
    "##### 1. Установим минимальную общую площадь на уровне 20 квадратных метров (примерно соответствует студии), то есть минимальный порог жилой площади = 20 квадратных метров;\n",
    "##### 2. Установим порог минимальной площади кухни на уровне 5 квадратных метров;\n",
    "##### 3. Установим порог жилой площади как 20 * 0.66 = 13.2 м"
   ]
  },
  {
   "cell_type": "code",
   "execution_count": 13,
   "id": "e14d0e70",
   "metadata": {
    "execution": {
     "iopub.execute_input": "2021-11-08T21:02:44.115731Z",
     "iopub.status.busy": "2021-11-08T21:02:44.114676Z",
     "iopub.status.idle": "2021-11-08T21:02:45.202344Z",
     "shell.execute_reply": "2021-11-08T21:02:45.202828Z",
     "shell.execute_reply.started": "2021-11-08T21:00:34.567030Z"
    },
    "papermill": {
     "duration": 1.137009,
     "end_time": "2021-11-08T21:02:45.202991",
     "exception": false,
     "start_time": "2021-11-08T21:02:44.065982",
     "status": "completed"
    },
    "tags": []
   },
   "outputs": [
    {
     "data": {
      "image/png": "[encoded data removed]",
      "text/plain": [
       "<Figure size 720x720 with 4 Axes>"
      ]
     },
     "metadata": {
      "needs_background": "light"
     },
     "output_type": "display_data"
    }
   ],
   "source": [
    "conditions = {\n",
    "    'Square' : train_dataframe['Square'] <= 20,\n",
    "    'KitchenSquare' : train_dataframe['KitchenSquare'] <= 5,\n",
    "    'LifeSquare' : train_dataframe['LifeSquare'] <= 13.2\n",
    "}\n",
    "\n",
    "for square in ['LifeSquare', 'Square', 'KitchenSquare']:\n",
    "    train_dataframe.loc[conditions[square], square] = train_dataframe[square].median()\n",
    "    \n",
    "show_partly(quantitative[:4], 2, 2)"
   ]
  },
  {
   "cell_type": "markdown",
   "id": "be7bec6b",
   "metadata": {
    "papermill": {
     "duration": 0.047279,
     "end_time": "2021-11-08T21:02:45.295696",
     "exception": false,
     "start_time": "2021-11-08T21:02:45.248417",
     "status": "completed"
    },
    "tags": []
   },
   "source": [
    "##### Рассмотрим данные по возрасту домов:"
   ]
  },
  {
   "cell_type": "code",
   "execution_count": 14,
   "id": "5a171dfc",
   "metadata": {
    "execution": {
     "iopub.execute_input": "2021-11-08T21:02:45.389791Z",
     "iopub.status.busy": "2021-11-08T21:02:45.388819Z",
     "iopub.status.idle": "2021-11-08T21:02:45.395169Z",
     "shell.execute_reply": "2021-11-08T21:02:45.395912Z",
     "shell.execute_reply.started": "2021-11-08T21:00:35.553995Z"
    },
    "papermill": {
     "duration": 0.055045,
     "end_time": "2021-11-08T21:02:45.396116",
     "exception": false,
     "start_time": "2021-11-08T21:02:45.341071",
     "status": "completed"
    },
    "tags": []
   },
   "outputs": [
    {
     "name": "stdout",
     "output_type": "stream",
     "text": [
      "20052011 1910\n"
     ]
    }
   ],
   "source": [
    "max, min = train_dataframe['HouseYear'].max(), train_dataframe['HouseYear'].min()\n",
    "print(max, min)"
   ]
  },
  {
   "cell_type": "markdown",
   "id": "f656dba9",
   "metadata": {
    "papermill": {
     "duration": 0.045593,
     "end_time": "2021-11-08T21:02:45.488720",
     "exception": false,
     "start_time": "2021-11-08T21:02:45.443127",
     "status": "completed"
    },
    "tags": []
   },
   "source": [
    "##### Обнаружено неадекватное максимальное значение. Заменим все значения > 2021 на медианные."
   ]
  },
  {
   "cell_type": "code",
   "execution_count": 15,
   "id": "54ab644b",
   "metadata": {
    "execution": {
     "iopub.execute_input": "2021-11-08T21:02:45.583012Z",
     "iopub.status.busy": "2021-11-08T21:02:45.582234Z",
     "iopub.status.idle": "2021-11-08T21:02:45.587107Z",
     "shell.execute_reply": "2021-11-08T21:02:45.587570Z",
     "shell.execute_reply.started": "2021-11-08T21:00:35.562047Z"
    },
    "papermill": {
     "duration": 0.053545,
     "end_time": "2021-11-08T21:02:45.587748",
     "exception": false,
     "start_time": "2021-11-08T21:02:45.534203",
     "status": "completed"
    },
    "tags": []
   },
   "outputs": [],
   "source": [
    "train_dataframe.loc[train_dataframe['HouseYear'] > 2021, 'HouseYear'] = train_dataframe['HouseYear'].median()"
   ]
  },
  {
   "cell_type": "code",
   "execution_count": 16,
   "id": "a761b9a3",
   "metadata": {
    "execution": {
     "iopub.execute_input": "2021-11-08T21:02:45.682630Z",
     "iopub.status.busy": "2021-11-08T21:02:45.681949Z",
     "iopub.status.idle": "2021-11-08T21:02:46.996341Z",
     "shell.execute_reply": "2021-11-08T21:02:46.996999Z",
     "shell.execute_reply.started": "2021-11-08T21:00:35.574344Z"
    },
    "papermill": {
     "duration": 1.363572,
     "end_time": "2021-11-08T21:02:46.997193",
     "exception": false,
     "start_time": "2021-11-08T21:02:45.633621",
     "status": "completed"
    },
    "tags": []
   },
   "outputs": [
    {
     "data": {
      "image/png": "[encoded data removed]",
      "text/plain": [
       "<Figure size 720x720 with 4 Axes>"
      ]
     },
     "metadata": {
      "needs_background": "light"
     },
     "output_type": "display_data"
    }
   ],
   "source": [
    "show_partly(quantitative[4:8], 2, 2)"
   ]
  },
  {
   "cell_type": "markdown",
   "id": "7194ccb9",
   "metadata": {
    "papermill": {
     "duration": 0.04744,
     "end_time": "2021-11-08T21:02:47.092189",
     "exception": false,
     "start_time": "2021-11-08T21:02:47.044749",
     "status": "completed"
    },
    "tags": []
   },
   "source": [
    "##### Присутствуют явные выбросы в столбцах HouseFloor, Floor. Ограничим их оба значениями 30, выпавшие значения приравняем к медианам.  Максимум в окошке HouseYear, возможно, можно связать со строительным бумом в 70-х - 80-х гг, когда после хрущёвок начали активно застраивать панельные дома. Поэтому данный пик проигнорирован и оставлен как есть."
   ]
  },
  {
   "cell_type": "code",
   "execution_count": 17,
   "id": "322ceb24",
   "metadata": {
    "execution": {
     "iopub.execute_input": "2021-11-08T21:02:47.190273Z",
     "iopub.status.busy": "2021-11-08T21:02:47.189326Z",
     "iopub.status.idle": "2021-11-08T21:02:47.195873Z",
     "shell.execute_reply": "2021-11-08T21:02:47.196329Z",
     "shell.execute_reply.started": "2021-11-08T21:00:36.730150Z"
    },
    "papermill": {
     "duration": 0.057022,
     "end_time": "2021-11-08T21:02:47.196545",
     "exception": false,
     "start_time": "2021-11-08T21:02:47.139523",
     "status": "completed"
    },
    "tags": []
   },
   "outputs": [],
   "source": [
    "train_dataframe.loc[train_dataframe['Floor'] > 30, 'Floor'] = train_dataframe['Floor'].median()\n",
    "train_dataframe.loc[train_dataframe['HouseFloor'] > 30, 'HouseFloor'] = train_dataframe['HouseFloor'].median()"
   ]
  },
  {
   "cell_type": "markdown",
   "id": "d197f610",
   "metadata": {
    "papermill": {
     "duration": 0.047044,
     "end_time": "2021-11-08T21:02:47.291144",
     "exception": false,
     "start_time": "2021-11-08T21:02:47.244100",
     "status": "completed"
    },
    "tags": []
   },
   "source": [
    "##### Рассмотрим данные повторно. Получилась более приемлемая картина."
   ]
  },
  {
   "cell_type": "code",
   "execution_count": 18,
   "id": "1b79c7da",
   "metadata": {
    "execution": {
     "iopub.execute_input": "2021-11-08T21:02:47.389343Z",
     "iopub.status.busy": "2021-11-08T21:02:47.388621Z",
     "iopub.status.idle": "2021-11-08T21:02:48.382800Z",
     "shell.execute_reply": "2021-11-08T21:02:48.382028Z",
     "shell.execute_reply.started": "2021-11-08T21:00:36.738878Z"
    },
    "papermill": {
     "duration": 1.044319,
     "end_time": "2021-11-08T21:02:48.382946",
     "exception": false,
     "start_time": "2021-11-08T21:02:47.338627",
     "status": "completed"
    },
    "tags": []
   },
   "outputs": [
    {
     "data": {
      "image/png": "[encoded data removed]",
      "text/plain": [
       "<Figure size 720x720 with 4 Axes>"
      ]
     },
     "metadata": {
      "needs_background": "light"
     },
     "output_type": "display_data"
    }
   ],
   "source": [
    "show_partly(quantitative[4:8], 2, 2)"
   ]
  },
  {
   "cell_type": "code",
   "execution_count": 19,
   "id": "a10a4e1a",
   "metadata": {
    "execution": {
     "iopub.execute_input": "2021-11-08T21:02:48.484481Z",
     "iopub.status.busy": "2021-11-08T21:02:48.483759Z",
     "iopub.status.idle": "2021-11-08T21:02:49.772548Z",
     "shell.execute_reply": "2021-11-08T21:02:49.772985Z",
     "shell.execute_reply.started": "2021-11-08T21:00:38.147022Z"
    },
    "papermill": {
     "duration": 1.341101,
     "end_time": "2021-11-08T21:02:49.773157",
     "exception": false,
     "start_time": "2021-11-08T21:02:48.432056",
     "status": "completed"
    },
    "tags": []
   },
   "outputs": [
    {
     "data": {
      "image/png": "[encoded data removed]",
      "text/plain": [
       "<Figure size 720x288 with 3 Axes>"
      ]
     },
     "metadata": {
      "needs_background": "light"
     },
     "output_type": "display_data"
    }
   ],
   "source": [
    "def show_partly_social(variables):\n",
    "    fig,axes = plt.subplots(1,3)\n",
    "    fig.set_size_inches(10, 4)\n",
    "    for i, elem in enumerate(variables):\n",
    "         sns.histplot(train_dataframe[elem], ax=axes[i])\n",
    "        \n",
    "show_partly_social(quantitative[8:11])"
   ]
  },
  {
   "cell_type": "markdown",
   "id": "7808b04c",
   "metadata": {
    "papermill": {
     "duration": 0.056938,
     "end_time": "2021-11-08T21:02:49.878545",
     "exception": false,
     "start_time": "2021-11-08T21:02:49.821607",
     "status": "completed"
    },
    "tags": []
   },
   "source": [
    "* По критерию Social_1 имеются выбросы. Порог > 60\n",
    "* По критерию Social_2 выбросы имеют порог ~ > 16000\n",
    "* По критерию Social_3 выбросы имеют порог ~ > 20"
   ]
  },
  {
   "cell_type": "code",
   "execution_count": 20,
   "id": "147e26e7",
   "metadata": {
    "execution": {
     "iopub.execute_input": "2021-11-08T21:02:49.987657Z",
     "iopub.status.busy": "2021-11-08T21:02:49.986976Z",
     "iopub.status.idle": "2021-11-08T21:02:51.941951Z",
     "shell.execute_reply": "2021-11-08T21:02:51.942546Z",
     "shell.execute_reply.started": "2021-11-08T21:00:39.276760Z"
    },
    "papermill": {
     "duration": 2.008728,
     "end_time": "2021-11-08T21:02:51.942748",
     "exception": false,
     "start_time": "2021-11-08T21:02:49.934020",
     "status": "completed"
    },
    "tags": []
   },
   "outputs": [
    {
     "data": {
      "image/png": "[encoded data removed]",
      "text/plain": [
       "<Figure size 720x288 with 3 Axes>"
      ]
     },
     "metadata": {
      "needs_background": "light"
     },
     "output_type": "display_data"
    }
   ],
   "source": [
    "show_partly_social(quantitative[11:14])"
   ]
  },
  {
   "cell_type": "markdown",
   "id": "4a25031a",
   "metadata": {
    "papermill": {
     "duration": 0.05082,
     "end_time": "2021-11-08T21:02:52.044793",
     "exception": false,
     "start_time": "2021-11-08T21:02:51.993973",
     "status": "completed"
    },
    "tags": []
   },
   "source": [
    "* По критерию Healthcare_1, возможно, выбросы при значениях > 2000\n",
    "* По критерию Shops_1 выбросы имеют порог ~ > 20"
   ]
  },
  {
   "cell_type": "code",
   "execution_count": 21,
   "id": "4e736403",
   "metadata": {
    "execution": {
     "iopub.execute_input": "2021-11-08T21:02:52.154418Z",
     "iopub.status.busy": "2021-11-08T21:02:52.153401Z",
     "iopub.status.idle": "2021-11-08T21:02:52.160835Z",
     "shell.execute_reply": "2021-11-08T21:02:52.160204Z",
     "shell.execute_reply.started": "2021-11-08T21:00:40.486676Z"
    },
    "papermill": {
     "duration": 0.063617,
     "end_time": "2021-11-08T21:02:52.161026",
     "exception": false,
     "start_time": "2021-11-08T21:02:52.097409",
     "status": "completed"
    },
    "tags": []
   },
   "outputs": [],
   "source": [
    "conditions2 = {\n",
    "    'Social_1' : train_dataframe['Social_1'] > 60,\n",
    "    'Social_2' : train_dataframe['Social_2'] > 16000,\n",
    "    'Social_3' : train_dataframe['Social_3'] > 20,\n",
    "#     'Healthcare_1': (train_dataframe['Healthcare_1'] > 2000) | (train_dataframe['Healthcare_1'] < 700),\n",
    "    'Shops_1': train_dataframe['Shops_1'] > 20\n",
    "}\n",
    "\n",
    "for col in conditions2.keys():\n",
    "    train_dataframe.loc[conditions2[col], col] = train_dataframe[col].median()"
   ]
  },
  {
   "cell_type": "code",
   "execution_count": 22,
   "id": "eb2898d3",
   "metadata": {
    "execution": {
     "iopub.execute_input": "2021-11-08T21:02:52.275940Z",
     "iopub.status.busy": "2021-11-08T21:02:52.275016Z",
     "iopub.status.idle": "2021-11-08T21:02:53.030723Z",
     "shell.execute_reply": "2021-11-08T21:02:53.031326Z",
     "shell.execute_reply.started": "2021-11-08T21:00:40.498212Z"
    },
    "papermill": {
     "duration": 0.81382,
     "end_time": "2021-11-08T21:02:53.031501",
     "exception": false,
     "start_time": "2021-11-08T21:02:52.217681",
     "status": "completed"
    },
    "tags": []
   },
   "outputs": [
    {
     "data": {
      "image/png": "[encoded data removed]",
      "text/plain": [
       "<Figure size 720x288 with 3 Axes>"
      ]
     },
     "metadata": {
      "needs_background": "light"
     },
     "output_type": "display_data"
    }
   ],
   "source": [
    "show_partly_social(quantitative[8:11])"
   ]
  },
  {
   "cell_type": "code",
   "execution_count": 23,
   "id": "b7c40b97",
   "metadata": {
    "execution": {
     "iopub.execute_input": "2021-11-08T21:02:53.142572Z",
     "iopub.status.busy": "2021-11-08T21:02:53.141772Z",
     "iopub.status.idle": "2021-11-08T21:02:54.460584Z",
     "shell.execute_reply": "2021-11-08T21:02:54.459934Z",
     "shell.execute_reply.started": "2021-11-08T21:00:41.175193Z"
    },
    "papermill": {
     "duration": 1.377577,
     "end_time": "2021-11-08T21:02:54.460711",
     "exception": false,
     "start_time": "2021-11-08T21:02:53.083134",
     "status": "completed"
    },
    "tags": []
   },
   "outputs": [
    {
     "data": {
      "image/png": "[encoded data removed]",
      "text/plain": [
       "<Figure size 720x288 with 3 Axes>"
      ]
     },
     "metadata": {
      "needs_background": "light"
     },
     "output_type": "display_data"
    }
   ],
   "source": [
    "show_partly_social(quantitative[11:14])"
   ]
  },
  {
   "cell_type": "markdown",
   "id": "2b20ca77",
   "metadata": {
    "papermill": {
     "duration": 0.05042,
     "end_time": "2021-11-08T21:02:54.562497",
     "exception": false,
     "start_time": "2021-11-08T21:02:54.512077",
     "status": "completed"
    },
    "tags": []
   },
   "source": [
    "#### Параметр Healthcare_1 оставим нетронутым. Сохраним полученные данные."
   ]
  },
  {
   "cell_type": "code",
   "execution_count": 24,
   "id": "5b5f7cfb",
   "metadata": {
    "execution": {
     "iopub.execute_input": "2021-11-08T21:02:54.667257Z",
     "iopub.status.busy": "2021-11-08T21:02:54.666606Z",
     "iopub.status.idle": "2021-11-08T21:02:54.673363Z",
     "shell.execute_reply": "2021-11-08T21:02:54.673989Z",
     "shell.execute_reply.started": "2021-11-08T21:00:42.557751Z"
    },
    "papermill": {
     "duration": 0.061156,
     "end_time": "2021-11-08T21:02:54.674145",
     "exception": false,
     "start_time": "2021-11-08T21:02:54.612989",
     "status": "completed"
    },
    "tags": []
   },
   "outputs": [],
   "source": [
    "train_dataframe.to_pickle('data_backup_1.pkl')"
   ]
  },
  {
   "cell_type": "markdown",
   "id": "1640fdd5",
   "metadata": {
    "papermill": {
     "duration": 0.050541,
     "end_time": "2021-11-08T21:02:54.775771",
     "exception": false,
     "start_time": "2021-11-08T21:02:54.725230",
     "status": "completed"
    },
    "tags": []
   },
   "source": [
    "#### Поробуем перевести категориальные переменные в вещественные:"
   ]
  },
  {
   "cell_type": "code",
   "execution_count": 25,
   "id": "ea1740af",
   "metadata": {
    "execution": {
     "iopub.execute_input": "2021-11-08T21:02:54.883124Z",
     "iopub.status.busy": "2021-11-08T21:02:54.882512Z",
     "iopub.status.idle": "2021-11-08T21:02:54.884056Z",
     "shell.execute_reply": "2021-11-08T21:02:54.884590Z",
     "shell.execute_reply.started": "2021-11-08T21:00:42.568796Z"
    },
    "papermill": {
     "duration": 0.057142,
     "end_time": "2021-11-08T21:02:54.884747",
     "exception": false,
     "start_time": "2021-11-08T21:02:54.827605",
     "status": "completed"
    },
    "tags": []
   },
   "outputs": [],
   "source": [
    "# new_df  = pd.read_pickle('data_backup_1.pkl')\n",
    "# district_size = new_df['DistrictId'].value_counts().reset_index().rename(columns = {'index': 'DistrictId', 'DistrictId':'DistrictSize'})"
   ]
  },
  {
   "cell_type": "markdown",
   "id": "d736647d",
   "metadata": {
    "papermill": {
     "duration": 0.05256,
     "end_time": "2021-11-08T21:02:54.988529",
     "exception": false,
     "start_time": "2021-11-08T21:02:54.935969",
     "status": "completed"
    },
    "tags": []
   },
   "source": [
    "# 3. Оформим задачу как положено. Воспользуемся ранее полученной информацией и организуем хорошую предобработку данных:"
   ]
  },
  {
   "cell_type": "code",
   "execution_count": 26,
   "id": "86fe0d38",
   "metadata": {
    "execution": {
     "iopub.execute_input": "2021-11-08T21:02:55.095634Z",
     "iopub.status.busy": "2021-11-08T21:02:55.094901Z",
     "iopub.status.idle": "2021-11-08T21:02:55.106655Z",
     "shell.execute_reply": "2021-11-08T21:02:55.107184Z",
     "shell.execute_reply.started": "2021-11-08T21:00:42.579413Z"
    },
    "papermill": {
     "duration": 0.066869,
     "end_time": "2021-11-08T21:02:55.107368",
     "exception": false,
     "start_time": "2021-11-08T21:02:55.040499",
     "status": "completed"
    },
    "tags": []
   },
   "outputs": [],
   "source": [
    "class DataPreprocessing:\n",
    "\n",
    "    def __init__(self):\n",
    "        \"\"\"Параметры класса\"\"\"\n",
    "        self.medians = None\n",
    "        self.kitchen_square_quantile = None\n",
    "        \n",
    "    def fit(self, X):\n",
    "        \"\"\"Сохранение статистик\"\"\"       \n",
    "        # Расчет медиан\n",
    "        self.medians = X.median()\n",
    "        self.kitchen_square_quantile = X['KitchenSquare'].quantile(.99)\n",
    "        self.square_quantile = X['Square'].quantile(.99)\n",
    "        self.life_square_quantile = X['LifeSquare'].quantile(.99)\n",
    "    \n",
    "    def transform(self, X):\n",
    "        \n",
    "        X['Id'] = X['Id'].astype(str)\n",
    "        X['DistrictId'] = X['DistrictId'].astype(str)\n",
    "#         reduce_mem_usage(X)\n",
    "        \n",
    "        AVG_LIFESQ_SHARE = 0.6658\n",
    "        \"\"\"Трансформация данных\"\"\"\n",
    "#       данные пороги вещественных переменных грубо подобраны в ходе EDA\n",
    "        conditions = {\n",
    "\n",
    "            'Rooms' : (X['Rooms'] > 5) | (X['Rooms'] <= 0),\n",
    "            'Healthcare_1' : X['Healthcare_1'].isna(),\n",
    "            'Square' : (X['Square'] <= 20) | (X['Square'] > self.square_quantile),\n",
    "            'KitchenSquare' : (X['KitchenSquare'] <= 5) | (X['KitchenSquare'] > self.kitchen_square_quantile),\n",
    "            'LifeSquare' : (X['LifeSquare'] <= 13.2) | (X['LifeSquare'] > self.life_square_quantile) \\\n",
    "            | (X['LifeSquare'].isna()),\n",
    "            'HouseYear' : X['HouseYear'] > 2021,\n",
    "            'Social_1' : X['Social_1'] > 60,\n",
    "            'Social_2' : X['Social_2'] > 16000,\n",
    "            'Social_3' : X['Social_3'] > 20,\n",
    "            'Shops_1': X['Shops_1'] > 20\n",
    "        }\n",
    "        # Rooms\n",
    "        for col in conditions.keys():\n",
    "            if col != 'LifeSquare':\n",
    "                X.loc[conditions[col], col] = self.medians[col]\n",
    "            else:\n",
    "                X.loc[conditions[col], col] = X['Square'] * AVG_LIFESQ_SHARE   \n",
    "        \n",
    "        return X"
   ]
  },
  {
   "cell_type": "markdown",
   "id": "dc6c433d",
   "metadata": {
    "papermill": {
     "duration": 0.051085,
     "end_time": "2021-11-08T21:02:55.210698",
     "exception": false,
     "start_time": "2021-11-08T21:02:55.159613",
     "status": "completed"
    },
    "tags": []
   },
   "source": [
    "# 4. Выполним генерацию фич:"
   ]
  },
  {
   "cell_type": "markdown",
   "id": "85c14679",
   "metadata": {
    "papermill": {
     "duration": 0.050912,
     "end_time": "2021-11-08T21:02:55.312979",
     "exception": false,
     "start_time": "2021-11-08T21:02:55.262067",
     "status": "completed"
    },
    "tags": []
   },
   "source": [
    "* на основании district id указать условный размер района\n",
    "* на основании district_id указать, большой район или маленький\n",
    "* средний размер кухни\n",
    "* перевести классы экологии и тому подобные величины в числовые (например, {'A' : 0, 'B' : 1})\n",
    "* оценить эпоху дома (возраст дома)"
   ]
  },
  {
   "cell_type": "markdown",
   "id": "f8624b82",
   "metadata": {
    "papermill": {
     "duration": 0.051131,
     "end_time": "2021-11-08T21:02:55.415713",
     "exception": false,
     "start_time": "2021-11-08T21:02:55.364582",
     "status": "completed"
    },
    "tags": []
   },
   "source": [
    "##### Взял за основу ваш класс FeatureGenetator и переделал его под свои нужды:"
   ]
  },
  {
   "cell_type": "code",
   "execution_count": 27,
   "id": "33a89672",
   "metadata": {
    "execution": {
     "iopub.execute_input": "2021-11-08T21:02:55.522659Z",
     "iopub.status.busy": "2021-11-08T21:02:55.521928Z",
     "iopub.status.idle": "2021-11-08T21:02:55.535521Z",
     "shell.execute_reply": "2021-11-08T21:02:55.536019Z",
     "shell.execute_reply.started": "2021-11-08T21:00:42.593961Z"
    },
    "papermill": {
     "duration": 0.068394,
     "end_time": "2021-11-08T21:02:55.536197",
     "exception": false,
     "start_time": "2021-11-08T21:02:55.467803",
     "status": "completed"
    },
    "tags": []
   },
   "outputs": [],
   "source": [
    "class FeatureGenerator():\n",
    "    \"\"\"Генерация новых фич\"\"\"\n",
    "    \n",
    "    def __init__(self):\n",
    "#         self.DistrictId_counts = None\n",
    "        self.binary_to_numbers = None\n",
    "        self.district_size = None\n",
    "        self.house_year_min = None\n",
    "        self.house_year_max = None\n",
    "        self.avg_kitchen_square = None\n",
    "        \n",
    "        \n",
    "        self.med_price_by_district = None\n",
    "        self.med_price_by_floor_year = None\n",
    "\n",
    "        \n",
    "    def fit(self, X):\n",
    "        X = X.copy()\n",
    "        # Binary features\n",
    "        self.binary_to_numbers = {'A': 0, 'B': 1}\n",
    "        \n",
    "        # DistrictID\n",
    "        self.district_size = X['DistrictId'].value_counts().reset_index() \\\n",
    "                               .rename(columns={'index':'DistrictId', 'DistrictId':'DistrictSize'})\n",
    "        \n",
    "        self.house_year_min = X['HouseYear'].min()\n",
    "        self.house_year_max = X['HouseYear'].max()\n",
    "        \n",
    "        # AvgKitchenSize        \n",
    "        self.avg_kitchen_square = X.groupby(['DistrictId']).mean(['KitchenSquare'])['KitchenSquare'].reset_index()\\\n",
    "        .rename(columns={'index':'DistrictId', 'KitchenSquare' : 'AvgKitchenSquare'})\n",
    "\n",
    "    def transform(self, X):\n",
    "        \n",
    "        X = X.copy()\n",
    "\n",
    "        # DistrictId, IsDistrictLarge, AvgKitchenSize - оставим как есть\n",
    "        X = X.merge(self.district_size, on='DistrictId', how='left')\n",
    "        X = X.merge(self.avg_kitchen_square, on = 'DistrictId', how = 'left')\n",
    "        \n",
    "        # анализ размера района \n",
    "        X['IsDistrictLarge'] = (X['DistrictSize'] > 100).astype(int)\n",
    "        # Binary features - оставим как есть\n",
    "        X['Ecology_2'] = X['Ecology_2'].map(self.binary_to_numbers)  # self.binary_to_numbers = {'A': 0, 'B': 1}\n",
    "        X['Ecology_3'] = X['Ecology_3'].map(self.binary_to_numbers)\n",
    "        X['Shops_2'] = X['Shops_2'].map(self.binary_to_numbers)\n",
    "        \n",
    "        X = self.year_to_cat(X)\n",
    "        \n",
    "        return X\n",
    "    \n",
    "    def year_to_cat(self,X):\n",
    "\n",
    "        bins = [self.house_year_min, 1920, 1940, 1960, 1980, 2000, self.house_year_max]\n",
    "        X['year_cat'] = pd.cut(X['HouseYear'], bins=bins, labels=False)\n",
    "        X['year_cat'].fillna(-1, inplace=True)\n",
    "    \n",
    "        return X"
   ]
  },
  {
   "cell_type": "markdown",
   "id": "1a614f05",
   "metadata": {
    "papermill": {
     "duration": 0.051906,
     "end_time": "2021-11-08T21:02:55.640119",
     "exception": false,
     "start_time": "2021-11-08T21:02:55.588213",
     "status": "completed"
    },
    "tags": []
   },
   "source": [
    "# 5. Обучение моделей"
   ]
  },
  {
   "cell_type": "code",
   "execution_count": 28,
   "id": "a29a0b0e",
   "metadata": {
    "execution": {
     "iopub.execute_input": "2021-11-08T21:02:55.748399Z",
     "iopub.status.busy": "2021-11-08T21:02:55.747376Z",
     "iopub.status.idle": "2021-11-08T21:02:56.516083Z",
     "shell.execute_reply": "2021-11-08T21:02:56.515442Z",
     "shell.execute_reply.started": "2021-11-08T21:00:42.614390Z"
    },
    "papermill": {
     "duration": 0.824002,
     "end_time": "2021-11-08T21:02:56.516222",
     "exception": false,
     "start_time": "2021-11-08T21:02:55.692220",
     "status": "completed"
    },
    "tags": []
   },
   "outputs": [
    {
     "name": "stdout",
     "output_type": "stream",
     "text": [
      "Memory usage of dataframe is 1.53 MB\n",
      "Memory usage after optimization is: 0.49 MB\n",
      "Decreased by 68.1%\n",
      "Memory usage of dataframe is 0.72 MB\n",
      "Memory usage after optimization is: 0.22 MB\n",
      "Decreased by 70.3%\n"
     ]
    },
    {
     "data": {
      "text/plain": [
       "(0, 0, 0)"
      ]
     },
     "execution_count": 28,
     "metadata": {},
     "output_type": "execute_result"
    }
   ],
   "source": [
    "from sklearn.model_selection import train_test_split\n",
    "from sklearn.ensemble import RandomForestRegressor\n",
    "from sklearn.model_selection import GridSearchCV\n",
    "import warnings\n",
    "warnings.filterwarnings('ignore')\n",
    "\n",
    "preprocessor = DataPreprocessing()\n",
    "\n",
    "train_df = pd.read_csv(TRAIN_DATASET_PATH)\n",
    "test_df = pd.read_csv(TEST_DATASET_PATH)\n",
    "\n",
    "reduce_mem_usage(train_df)\n",
    "reduce_mem_usage(test_df)\n",
    "\n",
    "preprocessor.fit(train_df)\n",
    "train_df = preprocessor.transform(train_df)\n",
    "test_df = preprocessor.transform(test_df)\n",
    "\n",
    "features_gen = FeatureGenerator()\n",
    "features_gen.fit(train_df)\n",
    "train_df = features_gen.transform(train_df)\n",
    "test_df = features_gen.transform(test_df)\n",
    "\n",
    "TARGET_NAME = 'Price'\n",
    "X = train_df.drop(columns = TARGET_NAME)\n",
    "y = train_df[TARGET_NAME]\n",
    "\n",
    "X_train, X_valid, y_train, y_valid = train_test_split(X, y, test_size = 0.30, shuffle = True, random_state = 74)\n",
    "\n",
    "# preprocessor.fit(X_train)\n",
    "# X_train = preprocessor.transform(X_train)\n",
    "# X_valid = preprocessor.transform(X_valid)\n",
    "\n",
    "X_train.isna().sum().sum(), X_valid.isna().sum().sum(), test_df.isna().sum().sum()\n",
    "# X_train.shape, X_valid.shape, test_df.shape\n",
    "\n",
    "# features_gen = FeatureGenerator()\n",
    "# features_gen.fit(X_train)\n",
    "\n",
    "# test_df.shape\n",
    "test_df.fillna(0, inplace = True)\n",
    "X_train.isna().sum().sum(), X_valid.isna().sum().sum(), test_df.isna().sum().sum()"
   ]
  },
  {
   "cell_type": "markdown",
   "id": "7e8802a8",
   "metadata": {
    "papermill": {
     "duration": 0.052035,
     "end_time": "2021-11-08T21:02:56.620619",
     "exception": false,
     "start_time": "2021-11-08T21:02:56.568584",
     "status": "completed"
    },
    "tags": []
   },
   "source": [
    "##### Здесь различным образом игрался с GridSearchCV, чтобы понять, как лучше обучать модель."
   ]
  },
  {
   "cell_type": "code",
   "execution_count": 29,
   "id": "39c0d36c",
   "metadata": {
    "execution": {
     "iopub.execute_input": "2021-11-08T21:02:56.729556Z",
     "iopub.status.busy": "2021-11-08T21:02:56.728889Z",
     "iopub.status.idle": "2021-11-08T21:02:56.730609Z",
     "shell.execute_reply": "2021-11-08T21:02:56.731096Z",
     "shell.execute_reply.started": "2021-11-08T21:00:42.838336Z"
    },
    "papermill": {
     "duration": 0.058488,
     "end_time": "2021-11-08T21:02:56.731275",
     "exception": false,
     "start_time": "2021-11-08T21:02:56.672787",
     "status": "completed"
    },
    "tags": []
   },
   "outputs": [],
   "source": [
    "# parameters = {\n",
    "#     'max_features': np.arange(15, 20),\n",
    "#     'max_depth': np.arange(3, 7),\n",
    "# }\n",
    "\n",
    "# clf = GridSearchCV(\n",
    "#     estimator=RandomForestRegressor(),\n",
    "#     param_grid=parameters,\n",
    "#     scoring='r2',\n",
    "#     cv=7,\n",
    "# )\n",
    "\n",
    "# clf.fit(X_train, y_train)\n",
    "# clf.best_params_\n",
    "# {'max_depth': 6, 'max_features': 17}\n",
    "\n"
   ]
  },
  {
   "cell_type": "markdown",
   "id": "459c14f2",
   "metadata": {
    "papermill": {
     "duration": 0.051443,
     "end_time": "2021-11-08T21:02:56.835849",
     "exception": false,
     "start_time": "2021-11-08T21:02:56.784406",
     "status": "completed"
    },
    "tags": []
   },
   "source": [
    "##### Модель обучения: случайный лес, глубина 7, 19 признаков."
   ]
  },
  {
   "cell_type": "markdown",
   "id": "62e46056",
   "metadata": {
    "papermill": {
     "duration": 0.051671,
     "end_time": "2021-11-08T21:02:56.939247",
     "exception": false,
     "start_time": "2021-11-08T21:02:56.887576",
     "status": "completed"
    },
    "tags": []
   },
   "source": []
  },
  {
   "cell_type": "code",
   "execution_count": 30,
   "id": "ed42fa89",
   "metadata": {
    "execution": {
     "iopub.execute_input": "2021-11-08T21:02:57.046270Z",
     "iopub.status.busy": "2021-11-08T21:02:57.045643Z",
     "iopub.status.idle": "2021-11-08T21:02:59.572307Z",
     "shell.execute_reply": "2021-11-08T21:02:59.571706Z",
     "shell.execute_reply.started": "2021-11-08T21:00:42.843698Z"
    },
    "papermill": {
     "duration": 2.581335,
     "end_time": "2021-11-08T21:02:59.572461",
     "exception": false,
     "start_time": "2021-11-08T21:02:56.991126",
     "status": "completed"
    },
    "tags": []
   },
   "outputs": [
    {
     "name": "stdout",
     "output_type": "stream",
     "text": [
      "0.7595621349321223\n",
      "0.6913239831068885\n"
     ]
    }
   ],
   "source": [
    "regr = RandomForestRegressor(max_depth=7, max_features = 19, random_state=74)\n",
    "regr.fit(X_train, y_train)\n",
    "\n",
    "# cv_results = pd.DataFrame(clf.cv_results_)\n",
    "# cv_results.columns.params\n",
    "\n",
    "print(regr.score(X_train, y_train))\n",
    "print(regr.score(X_valid, y_valid))"
   ]
  },
  {
   "cell_type": "code",
   "execution_count": 31,
   "id": "7574a4c3",
   "metadata": {
    "execution": {
     "iopub.execute_input": "2021-11-08T21:02:59.683546Z",
     "iopub.status.busy": "2021-11-08T21:02:59.682606Z",
     "iopub.status.idle": "2021-11-08T21:02:59.775583Z",
     "shell.execute_reply": "2021-11-08T21:02:59.774948Z",
     "shell.execute_reply.started": "2021-11-08T21:00:45.321788Z"
    },
    "papermill": {
     "duration": 0.14868,
     "end_time": "2021-11-08T21:02:59.775741",
     "exception": false,
     "start_time": "2021-11-08T21:02:59.627061",
     "status": "completed"
    },
    "tags": []
   },
   "outputs": [],
   "source": [
    "# test_df\n",
    "# y_test_preds\n",
    "y_test_preds = regr.predict(test_df)\n",
    "# y_test_preds\n",
    "submit = pd.read_csv('/kaggle/input/real-estate-price-prediction-moscow/sample_submission.csv')\n",
    "submit.head()\n",
    "submit['Price'] = y_test_preds\n",
    "\n",
    "submit.to_csv('rf2_submit.csv', index=False)\n",
    "\n",
    "# submit.head()"
   ]
  },
  {
   "cell_type": "markdown",
   "id": "22ad9730",
   "metadata": {
    "papermill": {
     "duration": 0.052331,
     "end_time": "2021-11-08T21:02:59.880933",
     "exception": false,
     "start_time": "2021-11-08T21:02:59.828602",
     "status": "completed"
    },
    "tags": []
   },
   "source": [
    "# Используемые библиотеки"
   ]
  },
  {
   "cell_type": "code",
   "execution_count": 32,
   "id": "cee4abf2",
   "metadata": {
    "execution": {
     "iopub.execute_input": "2021-11-08T21:02:59.995147Z",
     "iopub.status.busy": "2021-11-08T21:02:59.994479Z",
     "iopub.status.idle": "2021-11-08T21:03:04.323452Z",
     "shell.execute_reply": "2021-11-08T21:03:04.322887Z",
     "shell.execute_reply.started": "2021-11-08T21:00:45.399214Z"
    },
    "papermill": {
     "duration": 4.388096,
     "end_time": "2021-11-08T21:03:04.323599",
     "exception": false,
     "start_time": "2021-11-08T21:02:59.935503",
     "status": "completed"
    },
    "tags": []
   },
   "outputs": [],
   "source": [
    "!pip freeze >> requirements.txt"
   ]
  },
  {
   "cell_type": "markdown",
   "id": "ed793fed",
   "metadata": {
    "papermill": {
     "duration": 0.052182,
     "end_time": "2021-11-08T21:03:04.428380",
     "exception": false,
     "start_time": "2021-11-08T21:03:04.376198",
     "status": "completed"
    },
    "tags": []
   },
   "source": [
    "<!-- Используемые библиотеки  -->"
   ]
  }
 ],
 "metadata": {
  "kernelspec": {
   "display_name": "Python 3",
   "language": "python",
   "name": "python3"
  },
  "language_info": {
   "codemirror_mode": {
    "name": "ipython",
    "version": 3
   },
   "file_extension": ".py",
   "mimetype": "text/x-python",
   "name": "python",
   "nbconvert_exporter": "python",
   "pygments_lexer": "ipython3",
   "version": "3.7.10"
  },
  "papermill": {
   "default_parameters": {},
   "duration": 50.350004,
   "end_time": "2021-11-08T21:03:05.192528",
   "environment_variables": {},
   "exception": null,
   "input_path": "__notebook__.ipynb",
   "output_path": "__notebook__.ipynb",
   "parameters": {},
   "start_time": "2021-11-08T21:02:14.842524",
   "version": "2.3.3"
  }
 },
 "nbformat": 4,
 "nbformat_minor": 5
}
