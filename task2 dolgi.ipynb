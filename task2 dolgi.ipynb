{
 "cells": [
  {
   "cell_type": "markdown",
   "id": "5e5697a2",
   "metadata": {},
   "source": [
    "## Задание на повторение к домашке 2\n"
   ]
  },
  {
   "cell_type": "code",
   "execution_count": 3,
   "id": "b2a8d22c",
   "metadata": {},
   "outputs": [],
   "source": [
    "import numpy as np"
   ]
  },
  {
   "cell_type": "markdown",
   "id": "a2d6ddf2",
   "metadata": {},
   "source": [
    "##### Задание 1"
   ]
  },
  {
   "cell_type": "code",
   "execution_count": 8,
   "id": "2fdedd3a",
   "metadata": {},
   "outputs": [
    {
     "data": {
      "text/plain": [
       "array([12, 13, 14, 15, 16, 17, 18, 19, 20, 21, 22, 23])"
      ]
     },
     "execution_count": 8,
     "metadata": {},
     "output_type": "execute_result"
    }
   ],
   "source": [
    "a = np.arange(12,24,1)\n",
    "a"
   ]
  },
  {
   "cell_type": "markdown",
   "id": "e81de5f0",
   "metadata": {},
   "source": [
    "##### Задание 2"
   ]
  },
  {
   "cell_type": "code",
   "execution_count": 9,
   "id": "81008b3e",
   "metadata": {},
   "outputs": [],
   "source": [
    "?np.reshape"
   ]
  },
  {
   "cell_type": "code",
   "execution_count": 11,
   "id": "0386cfa6",
   "metadata": {},
   "outputs": [
    {
     "data": {
      "text/plain": [
       "array([[12, 13, 14, 15, 16, 17],\n",
       "       [18, 19, 20, 21, 22, 23]])"
      ]
     },
     "execution_count": 11,
     "metadata": {},
     "output_type": "execute_result"
    }
   ],
   "source": [
    "a1 = np.reshape(a,(2,6))\n",
    "a1"
   ]
  },
  {
   "cell_type": "code",
   "execution_count": 14,
   "id": "a265f94c",
   "metadata": {},
   "outputs": [
    {
     "data": {
      "text/plain": [
       "array([[12, 13, 14, 15],\n",
       "       [16, 17, 18, 19],\n",
       "       [20, 21, 22, 23]])"
      ]
     },
     "execution_count": 14,
     "metadata": {},
     "output_type": "execute_result"
    }
   ],
   "source": [
    "a2 = np.reshape(a,(3,4))\n",
    "a2"
   ]
  },
  {
   "cell_type": "code",
   "execution_count": 18,
   "id": "df6d97c3",
   "metadata": {},
   "outputs": [
    {
     "data": {
      "text/plain": [
       "array([[12],\n",
       "       [13],\n",
       "       [14],\n",
       "       [15],\n",
       "       [16],\n",
       "       [17],\n",
       "       [18],\n",
       "       [19],\n",
       "       [20],\n",
       "       [21],\n",
       "       [22],\n",
       "       [23]])"
      ]
     },
     "execution_count": 18,
     "metadata": {},
     "output_type": "execute_result"
    }
   ],
   "source": [
    "a3 = np.reshape(a,(12,1))\n",
    "a3"
   ]
  },
  {
   "cell_type": "code",
   "execution_count": 17,
   "id": "e28ae6c0",
   "metadata": {},
   "outputs": [
    {
     "data": {
      "text/plain": [
       "array([[12, 13],\n",
       "       [14, 15],\n",
       "       [16, 17],\n",
       "       [18, 19],\n",
       "       [20, 21],\n",
       "       [22, 23]])"
      ]
     },
     "execution_count": 17,
     "metadata": {},
     "output_type": "execute_result"
    }
   ],
   "source": [
    "a4 = np.reshape(a,(6,2))\n",
    "a4"
   ]
  },
  {
   "cell_type": "code",
   "execution_count": 19,
   "id": "fe4024d7",
   "metadata": {},
   "outputs": [
    {
     "data": {
      "text/plain": [
       "array([[12, 13, 14],\n",
       "       [15, 16, 17],\n",
       "       [18, 19, 20],\n",
       "       [21, 22, 23]])"
      ]
     },
     "execution_count": 19,
     "metadata": {},
     "output_type": "execute_result"
    }
   ],
   "source": [
    "a5 = np.reshape(a,(4,3))\n",
    "a5"
   ]
  },
  {
   "cell_type": "markdown",
   "id": "33320fcf",
   "metadata": {},
   "source": [
    "##### Задание 3"
   ]
  },
  {
   "cell_type": "code",
   "execution_count": 22,
   "id": "d9207952",
   "metadata": {},
   "outputs": [],
   "source": [
    "b1 = np.reshape(a, (12, -1))\n",
    "b2 = np.reshape(a, (6, -1))\n",
    "b3 = np.reshape(a, (4, -1))\n",
    "b4 = np.reshape(a, (-1, 4))\n",
    "b5 = np.reshape(a, (-1, 6))"
   ]
  },
  {
   "cell_type": "markdown",
   "id": "4d675e88",
   "metadata": {},
   "source": [
    "##### Задание 4 - нельзя, так как у нас получается две меры:"
   ]
  },
  {
   "cell_type": "code",
   "execution_count": 29,
   "id": "c8f5479d",
   "metadata": {},
   "outputs": [
    {
     "data": {
      "text/plain": [
       "(1, 12)"
      ]
     },
     "execution_count": 29,
     "metadata": {},
     "output_type": "execute_result"
    }
   ],
   "source": [
    "np.shape(np.reshape(a, (1, 12)))"
   ]
  },
  {
   "cell_type": "markdown",
   "id": "2492712c",
   "metadata": {},
   "source": [
    "##### Задание 5"
   ]
  },
  {
   "cell_type": "code",
   "execution_count": 55,
   "id": "7adab711",
   "metadata": {},
   "outputs": [
    {
     "data": {
      "text/plain": [
       "array([-0.42349776,  0.54157571,  0.60128721,  0.09946002, -1.26855019,\n",
       "       -1.45124518,  0.87799821, -1.02562691,  0.60529822,  0.33441762,\n",
       "       -1.2999253 ,  1.03195512])"
      ]
     },
     "execution_count": 55,
     "metadata": {},
     "output_type": "execute_result"
    }
   ],
   "source": [
    "a = np.random.normal(size=(3,4))\n",
    "b = np.reshape(a, (a.size))\n",
    "b"
   ]
  },
  {
   "cell_type": "markdown",
   "id": "38a2eb6c",
   "metadata": {},
   "source": [
    "##### Задание 6"
   ]
  },
  {
   "cell_type": "code",
   "execution_count": 64,
   "id": "e5e59d28",
   "metadata": {},
   "outputs": [
    {
     "data": {
      "text/plain": [
       "array([20, 18, 16, 14, 12, 10,  8,  6,  4,  2])"
      ]
     },
     "execution_count": 64,
     "metadata": {},
     "output_type": "execute_result"
    }
   ],
   "source": [
    "a = np.arange(20, 0, -2)\n",
    "a"
   ]
  },
  {
   "cell_type": "markdown",
   "id": "4271d8cc",
   "metadata": {},
   "source": [
    "##### Задание 7"
   ]
  },
  {
   "cell_type": "code",
   "execution_count": 73,
   "id": "976593e5",
   "metadata": {},
   "outputs": [
    {
     "data": {
      "text/plain": [
       "False"
      ]
     },
     "execution_count": 73,
     "metadata": {},
     "output_type": "execute_result"
    }
   ],
   "source": [
    "b = np.arange(20, 1, -2).reshape(1,10)\n",
    "np.array_equal(a,b)\n",
    "# вывод: массивы нельзя назвать одинаковыми. Разница: второй массив (b) имеет вторую меру"
   ]
  },
  {
   "cell_type": "markdown",
   "id": "87b137df",
   "metadata": {},
   "source": [
    "##### Задание 8"
   ]
  },
  {
   "cell_type": "code",
   "execution_count": 74,
   "id": "cccc594b",
   "metadata": {},
   "outputs": [],
   "source": [
    "?np.vstack"
   ]
  },
  {
   "cell_type": "code",
   "execution_count": 87,
   "id": "f787dc1d",
   "metadata": {},
   "outputs": [
    {
     "data": {
      "text/plain": [
       "10"
      ]
     },
     "execution_count": 87,
     "metadata": {},
     "output_type": "execute_result"
    }
   ],
   "source": [
    "a = np.zeros((3,2))\n",
    "b = np.ones((2,2))\n",
    "\n",
    "c = np.vstack((a,b))\n",
    "c.size"
   ]
  },
  {
   "cell_type": "markdown",
   "id": "d9096a9e",
   "metadata": {},
   "source": [
    "##### Задание 9"
   ]
  },
  {
   "cell_type": "code",
   "execution_count": 158,
   "id": "4bd2bc69",
   "metadata": {},
   "outputs": [
    {
     "data": {
      "text/plain": [
       "array([[  5,  14,  23,  32],\n",
       "       [ 14,  50,  86, 122],\n",
       "       [ 23,  86, 149, 212],\n",
       "       [ 32, 122, 212, 302]])"
      ]
     },
     "execution_count": 158,
     "metadata": {},
     "output_type": "execute_result"
    }
   ],
   "source": [
    "a = np.arange(0, 12, 1)\n",
    "A = np.reshape(a, (4,3))\n",
    "At = A.T\n",
    "B = np.matmul(A,At)\n",
    "np.shape(B)\n",
    "B"
   ]
  },
  {
   "cell_type": "code",
   "execution_count": 112,
   "id": "1c2adb75",
   "metadata": {},
   "outputs": [
    {
     "data": {
      "text/plain": [
       "0.0"
      ]
     },
     "execution_count": 112,
     "metadata": {},
     "output_type": "execute_result"
    }
   ],
   "source": [
    "np.linalg.det(B)\n",
    "#т.к. определитель матрицы B равен нулю, у неё нет обратной матрицы"
   ]
  },
  {
   "cell_type": "markdown",
   "id": "84ed4765",
   "metadata": {},
   "source": [
    "##### Задание 10"
   ]
  },
  {
   "cell_type": "code",
   "execution_count": 115,
   "id": "329c0f21",
   "metadata": {},
   "outputs": [],
   "source": [
    "np.random.seed(42)\n",
    "# если я правильно понял, это оно"
   ]
  },
  {
   "cell_type": "markdown",
   "id": "5fffe76d",
   "metadata": {},
   "source": [
    "##### Задание 11"
   ]
  },
  {
   "cell_type": "code",
   "execution_count": 135,
   "id": "a6bbb5a5",
   "metadata": {},
   "outputs": [
    {
     "data": {
      "text/plain": [
       "array([ 5,  5, 12, 10, 14,  8,  2, 11, 12,  9, 12,  8,  8,  7,  0,  2])"
      ]
     },
     "execution_count": 135,
     "metadata": {},
     "output_type": "execute_result"
    }
   ],
   "source": [
    "c = np.random.uniform(0,16,16).round().astype(int)\n",
    "c"
   ]
  },
  {
   "cell_type": "markdown",
   "id": "6c5df1ea",
   "metadata": {},
   "source": [
    "##### Задание 12"
   ]
  },
  {
   "cell_type": "code",
   "execution_count": 136,
   "id": "f949358d",
   "metadata": {},
   "outputs": [
    {
     "data": {
      "text/plain": [
       "array([[ 5,  5, 12, 10],\n",
       "       [14,  8,  2, 11],\n",
       "       [12,  9, 12,  8],\n",
       "       [ 8,  7,  0,  2]])"
      ]
     },
     "execution_count": 136,
     "metadata": {},
     "output_type": "execute_result"
    }
   ],
   "source": [
    "C = np.reshape(c, (4,4))\n",
    "C"
   ]
  },
  {
   "cell_type": "code",
   "execution_count": 139,
   "id": "58c3c2e2",
   "metadata": {},
   "outputs": [
    {
     "data": {
      "text/plain": [
       "array([[ 55,  64, 143, 132],\n",
       "       [154, 130, 106, 232],\n",
       "       [143, 176, 269, 292],\n",
       "       [112, 192, 212, 322]])"
      ]
     },
     "execution_count": 139,
     "metadata": {},
     "output_type": "execute_result"
    }
   ],
   "source": [
    "D = B + (C*10)\n",
    "D"
   ]
  },
  {
   "cell_type": "code",
   "execution_count": 141,
   "id": "d9cf60be",
   "metadata": {},
   "outputs": [
    {
     "data": {
      "text/plain": [
       "42943400.00000005"
      ]
     },
     "execution_count": 141,
     "metadata": {},
     "output_type": "execute_result"
    }
   ],
   "source": [
    "np.linalg.det(D)"
   ]
  },
  {
   "cell_type": "code",
   "execution_count": 149,
   "id": "d3fade42",
   "metadata": {},
   "outputs": [
    {
     "data": {
      "text/plain": [
       "array([[-0.00413521,  0.0092587 ,  0.00866117, -0.01282991],\n",
       "       [-0.05671   , -0.01219792,  0.03401687,  0.00118854],\n",
       "       [ 0.00362757, -0.00469828,  0.00751641, -0.0049181 ],\n",
       "       [ 0.03286465,  0.00714615, -0.02824462,  0.01009748]])"
      ]
     },
     "execution_count": 149,
     "metadata": {},
     "output_type": "execute_result"
    }
   ],
   "source": [
    "D_inv = np.linalg.inv(D)\n",
    "D_inv"
   ]
  },
  {
   "cell_type": "code",
   "execution_count": 155,
   "id": "c6a66db2",
   "metadata": {},
   "outputs": [
    {
     "data": {
      "text/plain": [
       "array([[0, 1, 1, 0],\n",
       "       [0, 0, 1, 1],\n",
       "       [1, 0, 1, 0],\n",
       "       [1, 1, 0, 1]])"
      ]
     },
     "execution_count": 155,
     "metadata": {},
     "output_type": "execute_result"
    }
   ],
   "source": [
    "mask = np.where(D_inv < 0, 0, 1)\n",
    "mask"
   ]
  },
  {
   "cell_type": "code",
   "execution_count": 161,
   "id": "50694d04",
   "metadata": {},
   "outputs": [
    {
     "data": {
      "text/plain": [
       "array([[  5,   5,  12,  32],\n",
       "       [ 14,  50,   2,  11],\n",
       "       [ 12,  86,  12, 212],\n",
       "       [  8,   7, 212,   2]])"
      ]
     },
     "execution_count": 161,
     "metadata": {},
     "output_type": "execute_result"
    }
   ],
   "source": [
    "#если я правильно понял, то нужно так:\n",
    "E = np.where(mask == 1, C, B)\n",
    "E"
   ]
  },
  {
   "cell_type": "code",
   "execution_count": null,
   "id": "3bcd7556",
   "metadata": {},
   "outputs": [],
   "source": []
  }
 ],
 "metadata": {
  "kernelspec": {
   "display_name": "Python 3 (ipykernel)",
   "language": "python",
   "name": "python3"
  },
  "language_info": {
   "codemirror_mode": {
    "name": "ipython",
    "version": 3
   },
   "file_extension": ".py",
   "mimetype": "text/x-python",
   "name": "python",
   "nbconvert_exporter": "python",
   "pygments_lexer": "ipython3",
   "version": "3.8.3"
  }
 },
 "nbformat": 4,
 "nbformat_minor": 5
}
